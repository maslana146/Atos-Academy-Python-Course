{
 "cells": [
  {
   "cell_type": "markdown",
   "id": "1c70f418",
   "metadata": {},
   "source": [
    "# 3.3 Error Checking\n",
    "\n",
    "Although exceptions were introduced earlier, this section fills in some additional\n",
    "details about error checking and exception handling.\n",
    "\n",
    "### How programs fail\n",
    "\n",
    "Python performs no checking or validation of function argument types\n",
    "or values.  A function will work on any data that is compatible with\n",
    "the statements in the function."
   ]
  },
  {
   "cell_type": "code",
   "execution_count": null,
   "id": "0b27976a",
   "metadata": {},
   "outputs": [],
   "source": [
    "def add(x, y):\n",
    "    return x + y\n",
    "\n",
    "add(3, 4)               # 7\n",
    "add('Hello', 'World')   # 'HelloWorld'\n",
    "add('3', '4')           # '34'"
   ]
  },
  {
   "cell_type": "markdown",
   "id": "a100d22e",
   "metadata": {},
   "source": [
    "If there are errors in a function, they appear at run time (as an exception).\n"
   ]
  },
  {
   "cell_type": "code",
   "execution_count": null,
   "id": "2b4a1fa2",
   "metadata": {},
   "outputs": [],
   "source": [
    "def add(x, y):\n",
    "    return x + y\n",
    "\n",
    "add(3, '4')"
   ]
  },
  {
   "cell_type": "markdown",
   "id": "064dd910",
   "metadata": {},
   "source": [
    "\n",
    "To verify code, there is a strong emphasis on testing (covered later).\n"
   ]
  },
  {
   "cell_type": "markdown",
   "id": "f4d4ad70",
   "metadata": {},
   "source": [
    "### Exceptions\n",
    "\n",
    "Exceptions are used to signal errors.\n",
    "To raise an exception yourself, use `raise` statement.\n",
    "```python\n",
    "if name not in authorized:\n",
    "    raise RuntimeError(f'{name} not authorized')\n",
    "```\n",
    "\n",
    "To catch an exception use `try-except`.\n",
    "\n",
    "```python\n",
    "try:\n",
    "    authenticate(username)\n",
    "except RuntimeError as e:\n",
    "    print(e)\n",
    "```\n"
   ]
  },
  {
   "cell_type": "markdown",
   "id": "c5763803",
   "metadata": {},
   "source": [
    "### Exception Handling\n",
    "\n",
    "Exceptions propagate to the first matching `except`.\n",
    "\n",
    "```python\n",
    "def grok():\n",
    "    ...\n",
    "    raise RuntimeError('Whoa!')   # Exception raised here\n",
    "\n",
    "def spam():\n",
    "    grok()                        # Call that will raise exception\n",
    "\n",
    "def bar():\n",
    "    try:\n",
    "       spam()\n",
    "    except RuntimeError as e:     # Exception caught here\n",
    "        ...\n",
    "\n",
    "def foo():\n",
    "    try:\n",
    "         bar()\n",
    "    except RuntimeError as e:     # Exception does NOT arrive here\n",
    "        ...\n",
    "\n",
    "foo()\n",
    "```\n",
    "\n",
    "\n",
    "To handle the exception, put statements in the `except` block. You can add any\n",
    "statements you want to handle the error."
   ]
  },
  {
   "cell_type": "markdown",
   "id": "dbd627e3",
   "metadata": {},
   "source": [
    "```python\n",
    "def grok(): ...\n",
    "    raise RuntimeError('Whoa!')\n",
    "\n",
    "def bar():\n",
    "    try:\n",
    "      grok()\n",
    "    except RuntimeError as e:   # Exception caught here\n",
    "        statements              # Use this statements\n",
    "        statements\n",
    "        ...\n",
    "\n",
    "bar()\n",
    "```\n",
    "\n",
    "After handling, execution resumes with the first statement after the\n",
    "`try-except`.\n",
    "\n",
    "```python\n",
    "def grok(): ...\n",
    "    raise RuntimeError('Whoa!')\n",
    "\n",
    "def bar():\n",
    "    try:\n",
    "      grok()\n",
    "    except RuntimeError as e:   # Exception caught here\n",
    "        statements\n",
    "        statements\n",
    "        ...\n",
    "    statements                  # Resumes execution here\n",
    "    statements                  # And continues here\n",
    "    ...\n",
    "\n",
    "bar()\n",
    "```\n"
   ]
  },
  {
   "cell_type": "markdown",
   "id": "511cb04f",
   "metadata": {},
   "source": [
    "### Built-in Exceptions\n",
    "\n",
    "There are about two-dozen built-in exceptions.  Usually the name of\n",
    "the exception is indicative of what's wrong (e.g., a `ValueError` is\n",
    "raised because you supplied a bad value). This is not an\n",
    "exhaustive list. Check the [documentation](https://docs.python.org/3/library/exceptions.html) for more.\n",
    "\n",
    "```python\n",
    "ArithmeticError\n",
    "AssertionError\n",
    "EnvironmentError\n",
    "EOFError\n",
    "ImportError\n",
    "IndexError\n",
    "KeyboardInterrupt\n",
    "KeyError\n",
    "MemoryError\n",
    "NameError\n",
    "ReferenceError\n",
    "RuntimeError\n",
    "SyntaxError\n",
    "SystemError\n",
    "TypeError\n",
    "ValueError\n",
    "```"
   ]
  },
  {
   "cell_type": "markdown",
   "id": "4158a881",
   "metadata": {},
   "source": [
    "### Exception Values\n",
    "\n",
    "Exceptions have an associated value. It contains more specific\n",
    "information about what's wrong.\n",
    "\n",
    "```python\n",
    "raise RuntimeError('Invalid user name')\n",
    "```\n",
    "\n",
    "This value is part of the exception instance that's placed in the variable supplied to `except`.\n",
    "\n",
    "```python\n",
    "try:\n",
    "    ...\n",
    "except RuntimeError as e:   # `e` holds the exception raised\n",
    "    ...\n",
    "```\n",
    "\n",
    "`e` is an instance of the exception type. However, it often looks like a string when\n",
    "printed.\n",
    "\n",
    "```python\n",
    "except RuntimeError as e:\n",
    "    print('Failed : Reason', e)\n",
    "```\n"
   ]
  },
  {
   "cell_type": "markdown",
   "id": "ed1b977d",
   "metadata": {},
   "source": [
    "### Catching Multiple Errors\n",
    "\n",
    "You can catch different kinds of exceptions using multiple `except` blocks.\n",
    "\n",
    "```python\n",
    "try:\n",
    "  ...\n",
    "except LookupError as e:\n",
    "  ...\n",
    "except RuntimeError as e:\n",
    "  ...\n",
    "except IOError as e:\n",
    "  ...\n",
    "except KeyboardInterrupt as e:\n",
    "  ...\n",
    "```\n",
    "\n",
    "Alternatively, if the statements to handle them is the same, you can group them:\n",
    "\n",
    "```python\n",
    "try:\n",
    "  ...\n",
    "except (IOError,LookupError,RuntimeError) as e:\n",
    "  ...\n",
    "```\n",
    "\n",
    "### Catching All Errors\n",
    "\n",
    "To catch any exception, use `Exception` like this:\n",
    "\n",
    "```python\n",
    "try:\n",
    "    ...\n",
    "except Exception:       # DANGER. See below\n",
    "    print('An error occurred')\n",
    "```\n",
    "\n",
    "In general, writing code like that is a bad idea because you'll have\n",
    "no idea why it failed."
   ]
  },
  {
   "cell_type": "markdown",
   "id": "1e16623a",
   "metadata": {},
   "source": [
    "### Wrong Way to Catch Errors\n",
    "\n",
    "Here is the wrong way to use exceptions.\n",
    "\n",
    "```python\n",
    "try:\n",
    "    go_do_something()\n",
    "except Exception:\n",
    "    print('Computer says no')\n",
    "```\n",
    "\n",
    "This catches all possible errors and it may make it impossible to debug\n",
    "when the code is failing for some reason you didn't expect at all\n",
    "(e.g. uninstalled Python module, etc.).\n"
   ]
  },
  {
   "cell_type": "markdown",
   "id": "d0abc3ba",
   "metadata": {},
   "source": [
    "### Somewhat Better Approach\n",
    "\n",
    "If you're going to catch all errors, this is a more sane approach.\n",
    "\n",
    "```python\n",
    "try:\n",
    "    go_do_something()\n",
    "except Exception as e:\n",
    "    print('Computer says no. Reason :', e)\n",
    "```\n",
    "It reports a specific reason for failure.  It is almost always a good\n",
    "idea to have some mechanism for viewing/reporting errors when you\n",
    "write code that catches all possible exceptions.\n",
    "\n",
    "In general though, it's better to catch the error as narrowly as is\n",
    "reasonable. Only catch the errors you can actually handle. Let\n",
    "other errors pass by--maybe some other code can handle them."
   ]
  },
  {
   "cell_type": "markdown",
   "id": "d9f5ab8a",
   "metadata": {},
   "source": [
    "### Reraising an Exception\n",
    "\n",
    "Use `raise` to propagate a caught error.\n",
    "\n",
    "```python\n",
    "try:\n",
    "    go_do_something()\n",
    "except Exception as e:\n",
    "    print('Computer says no. Reason :', e)\n",
    "    raise\n",
    "```\n",
    "This allows you to take action (e.g. logging) and pass the error on to\n",
    "the caller.\n"
   ]
  },
  {
   "cell_type": "markdown",
   "id": "00b9d936",
   "metadata": {},
   "source": [
    "### Exception Best Practices\n",
    "\n",
    "Don't catch exceptions. Fail fast and loud. If it's important, someone\n",
    "else will take care of the problem.  Only catch an exception if you\n",
    "are *that* someone.  That is, only catch errors where you can recover\n",
    "and sanely keep going.\n"
   ]
  },
  {
   "cell_type": "markdown",
   "id": "698771de",
   "metadata": {},
   "source": [
    "### `finally` statement\n",
    "\n",
    "It specifies code that must run regardless of whether or not an\n",
    "exception occurs.\n",
    "\n",
    "```python\n",
    "lock = Lock()\n",
    "...\n",
    "lock.acquire()\n",
    "try:\n",
    "    ...\n",
    "finally:\n",
    "    lock.release()  # this will ALWAYS be executed. With and without exception.\n",
    "```\n",
    "\n",
    "Commonly used to safely manage resources (especially locks, files, etc.).\n"
   ]
  },
  {
   "cell_type": "markdown",
   "id": "0b9b2529",
   "metadata": {},
   "source": [
    "### `with` statement\n",
    "\n",
    "In modern code, `try-finally` is often replaced with the `with` statement.\n",
    "\n",
    "A more familiar example:\n",
    "\n",
    "```python\n",
    "with open(filename) as f:\n",
    "    # Use the file\n",
    "    ...\n",
    "# File closed\n",
    "```\n",
    "\n",
    "`with` defines a usage *context* for a resource.  When execution\n",
    "leaves that context, resources are released. `with` only works with\n",
    "certain objects that have been specifically programmed to support it.\n"
   ]
  },
  {
   "cell_type": "markdown",
   "id": "67bbf60a",
   "metadata": {},
   "source": [
    "## Exercises\n",
    "Create a function that will calculate BMI. Create appropriate conditions that will prevent the program from failing."
   ]
  },
  {
   "cell_type": "code",
   "execution_count": null,
   "id": "d602fe48",
   "metadata": {},
   "outputs": [],
   "source": [
    "#TODO"
   ]
  },
  {
   "cell_type": "markdown",
   "id": "4c103192",
   "metadata": {},
   "source": [
    "Create a function that will return element with given index from the given list. Create appropriate conditions that will prevent the program from failing."
   ]
  },
  {
   "cell_type": "code",
   "execution_count": null,
   "id": "4668ca2e",
   "metadata": {},
   "outputs": [],
   "source": [
    "# TODO"
   ]
  },
  {
   "cell_type": "markdown",
   "id": "963817ad",
   "metadata": {},
   "source": [
    "Fill `#TODO`"
   ]
  },
  {
   "cell_type": "code",
   "execution_count": null,
   "id": "6bbb440f",
   "metadata": {},
   "outputs": [],
   "source": [
    "from typing import Any\n",
    "def create_int(value: Any):\n",
    "    try:\n",
    "        new_int = int(value)\n",
    "        return new_int\n",
    "    except #TODO:\n",
    "        print(f\"You cant convert {value} to int.\")"
   ]
  },
  {
   "cell_type": "code",
   "execution_count": null,
   "id": "61ca206d",
   "metadata": {},
   "outputs": [],
   "source": [
    "def get_pet(dict_info: dict):\n",
    "    #TODO\n",
    "    except KeyError:\n",
    "        return f'Given dict does not have pet attr.'"
   ]
  }
 ],
 "metadata": {
  "kernelspec": {
   "display_name": "academy_venv",
   "language": "python",
   "name": "academy_venv"
  },
  "language_info": {
   "codemirror_mode": {
    "name": "ipython",
    "version": 3
   },
   "file_extension": ".py",
   "mimetype": "text/x-python",
   "name": "python",
   "nbconvert_exporter": "python",
   "pygments_lexer": "ipython3",
   "version": "3.8.0"
  }
 },
 "nbformat": 4,
 "nbformat_minor": 5
}
