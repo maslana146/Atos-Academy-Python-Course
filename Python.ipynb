{
 "cells": [
  {
   "cell_type": "markdown",
   "id": "02ccbd0f",
   "metadata": {},
   "source": [
    "# Atos Academy Automation"
   ]
  },
  {
   "cell_type": "markdown",
   "id": "14d6f365",
   "metadata": {},
   "source": [
    "## Bulit in types:\n"
   ]
  },
  {
   "cell_type": "markdown",
   "id": "f06b67a5",
   "metadata": {},
   "source": [
    "**Bool**"
   ]
  },
  {
   "cell_type": "code",
   "execution_count": 3,
   "id": "f09b418f",
   "metadata": {},
   "outputs": [
    {
     "name": "stdout",
     "output_type": "stream",
     "text": [
      "True\n",
      "False\n"
     ]
    }
   ],
   "source": [
    "bool_value = True\n",
    "print(bool_value)\n",
    "bool_value = bool(0)\n",
    "print(bool_value)"
   ]
  },
  {
   "cell_type": "markdown",
   "id": "be94377e",
   "metadata": {},
   "source": [
    "**Dict**"
   ]
  },
  {
   "cell_type": "code",
   "execution_count": 4,
   "id": "686f9474",
   "metadata": {},
   "outputs": [
    {
     "name": "stdout",
     "output_type": "stream",
     "text": [
      "{'key1': 1.0, 'key2': False}\n",
      "{'name': 'bartek', 'day': 'monday'}\n"
     ]
    }
   ],
   "source": [
    "dict_value = {\n",
    "    'key1': 1.0,\n",
    "    'key2': False\n",
    "}\n",
    "print(dict_value)\n",
    "dict_value = dict(name='bartek', day='monday')\n",
    "print(dict_value)"
   ]
  },
  {
   "cell_type": "code",
   "execution_count": 9,
   "id": "7d94ff23",
   "metadata": {},
   "outputs": [
    {
     "data": {
      "text/plain": [
       "'bartek'"
      ]
     },
     "execution_count": 9,
     "metadata": {},
     "output_type": "execute_result"
    }
   ],
   "source": [
    "dict_value['name']"
   ]
  },
  {
   "cell_type": "code",
   "execution_count": 14,
   "id": "542a782d",
   "metadata": {},
   "outputs": [
    {
     "ename": "KeyError",
     "evalue": "'month'",
     "output_type": "error",
     "traceback": [
      "\u001b[1;31m---------------------------------------------------------------------------\u001b[0m",
      "\u001b[1;31mKeyError\u001b[0m                                  Traceback (most recent call last)",
      "Input \u001b[1;32mIn [14]\u001b[0m, in \u001b[0;36m<cell line: 1>\u001b[1;34m()\u001b[0m\n\u001b[1;32m----> 1\u001b[0m \u001b[43mdict_value\u001b[49m\u001b[43m[\u001b[49m\u001b[38;5;124;43m'\u001b[39;49m\u001b[38;5;124;43mmonth\u001b[39;49m\u001b[38;5;124;43m'\u001b[39;49m\u001b[43m]\u001b[49m\n",
      "\u001b[1;31mKeyError\u001b[0m: 'month'"
     ]
    }
   ],
   "source": [
    "dict_value['month']"
   ]
  },
  {
   "cell_type": "code",
   "execution_count": 15,
   "id": "a281edae",
   "metadata": {},
   "outputs": [
    {
     "name": "stdout",
     "output_type": "stream",
     "text": [
      "None\n"
     ]
    }
   ],
   "source": [
    "print(dict_value.get('month', None))"
   ]
  },
  {
   "cell_type": "code",
   "execution_count": 17,
   "id": "ca29a3bc",
   "metadata": {},
   "outputs": [
    {
     "data": {
      "text/plain": [
       "{'name': 'bartek', 'day': 'monday', 'month': 'May'}"
      ]
     },
     "execution_count": 17,
     "metadata": {},
     "output_type": "execute_result"
    }
   ],
   "source": [
    "dict_value['month'] = \"May\"\n",
    "dict_value"
   ]
  },
  {
   "cell_type": "code",
   "execution_count": 18,
   "id": "a6c90956",
   "metadata": {},
   "outputs": [
    {
     "data": {
      "text/plain": [
       "{'day': 'monday', 'month': 'May'}"
      ]
     },
     "execution_count": 18,
     "metadata": {},
     "output_type": "execute_result"
    }
   ],
   "source": [
    "del dict_value['name']\n",
    "dict_value"
   ]
  },
  {
   "cell_type": "code",
   "execution_count": 19,
   "id": "c58c9594",
   "metadata": {},
   "outputs": [
    {
     "data": {
      "text/plain": [
       "dict_keys(['day', 'month'])"
      ]
     },
     "execution_count": 19,
     "metadata": {},
     "output_type": "execute_result"
    }
   ],
   "source": [
    "dict_value.keys()"
   ]
  },
  {
   "cell_type": "code",
   "execution_count": 20,
   "id": "0764daaa",
   "metadata": {},
   "outputs": [
    {
     "data": {
      "text/plain": [
       "dict_values(['monday', 'May'])"
      ]
     },
     "execution_count": 20,
     "metadata": {},
     "output_type": "execute_result"
    }
   ],
   "source": [
    "dict_value.values()"
   ]
  },
  {
   "cell_type": "code",
   "execution_count": 21,
   "id": "3a1602a1",
   "metadata": {},
   "outputs": [
    {
     "data": {
      "text/plain": [
       "dict_items([('day', 'monday'), ('month', 'May')])"
      ]
     },
     "execution_count": 21,
     "metadata": {},
     "output_type": "execute_result"
    }
   ],
   "source": [
    "dict_value.items()"
   ]
  },
  {
   "cell_type": "markdown",
   "id": "c6ae6158",
   "metadata": {},
   "source": [
    "**Float & Int** "
   ]
  },
  {
   "cell_type": "code",
   "execution_count": 6,
   "id": "bb069ad1",
   "metadata": {},
   "outputs": [
    {
     "name": "stdout",
     "output_type": "stream",
     "text": [
      "0.3333\n",
      "0.534534536\n"
     ]
    }
   ],
   "source": [
    "float_value = float(0.3333)\n",
    "print(float_value)\n",
    "float_value = 0.534534536\n",
    "print(float_value)"
   ]
  },
  {
   "cell_type": "code",
   "execution_count": 8,
   "id": "7ce5e23f",
   "metadata": {},
   "outputs": [
    {
     "name": "stdout",
     "output_type": "stream",
     "text": [
      "0\n",
      "2022\n"
     ]
    }
   ],
   "source": [
    "int_value = int(0.3333)\n",
    "print(int_value)\n",
    "int_value = 2022\n",
    "print(int_value)"
   ]
  },
  {
   "cell_type": "code",
   "execution_count": 22,
   "id": "6b8c7743",
   "metadata": {},
   "outputs": [
    {
     "data": {
      "text/plain": [
       "10"
      ]
     },
     "execution_count": 22,
     "metadata": {},
     "output_type": "execute_result"
    }
   ],
   "source": [
    "5 + 5"
   ]
  },
  {
   "cell_type": "code",
   "execution_count": 24,
   "id": "6c39d7ac",
   "metadata": {},
   "outputs": [
    {
     "data": {
      "text/plain": [
       "32"
      ]
     },
     "execution_count": 24,
     "metadata": {},
     "output_type": "execute_result"
    }
   ],
   "source": [
    "2**5"
   ]
  },
  {
   "cell_type": "code",
   "execution_count": 26,
   "id": "fe7bbc20",
   "metadata": {},
   "outputs": [
    {
     "data": {
      "text/plain": [
       "16.665"
      ]
     },
     "execution_count": 26,
     "metadata": {},
     "output_type": "execute_result"
    }
   ],
   "source": [
    "5*3.333"
   ]
  },
  {
   "cell_type": "markdown",
   "id": "c6341c30",
   "metadata": {},
   "source": [
    "**List**"
   ]
  },
  {
   "cell_type": "code",
   "execution_count": 64,
   "id": "3bea8e2d",
   "metadata": {},
   "outputs": [],
   "source": [
    "list_value = [5,4,3,2,2,2,16,7,7,7,7,8,8,9]"
   ]
  },
  {
   "cell_type": "code",
   "execution_count": 65,
   "id": "bf364359",
   "metadata": {},
   "outputs": [
    {
     "data": {
      "text/plain": [
       "5"
      ]
     },
     "execution_count": 65,
     "metadata": {},
     "output_type": "execute_result"
    }
   ],
   "source": [
    "list_value[0]"
   ]
  },
  {
   "cell_type": "code",
   "execution_count": 66,
   "id": "7c787796",
   "metadata": {},
   "outputs": [
    {
     "data": {
      "text/plain": [
       "9"
      ]
     },
     "execution_count": 66,
     "metadata": {},
     "output_type": "execute_result"
    }
   ],
   "source": [
    "list_value[-1]"
   ]
  },
  {
   "cell_type": "code",
   "execution_count": 67,
   "id": "f85a9d50",
   "metadata": {},
   "outputs": [
    {
     "data": {
      "text/plain": [
       "[5, 4, 3]"
      ]
     },
     "execution_count": 67,
     "metadata": {},
     "output_type": "execute_result"
    }
   ],
   "source": [
    "list_value[:3]"
   ]
  },
  {
   "cell_type": "code",
   "execution_count": 68,
   "id": "b035c8d3",
   "metadata": {},
   "outputs": [
    {
     "data": {
      "text/plain": [
       "[2, 16, 7, 7, 7, 7, 8, 8, 9]"
      ]
     },
     "execution_count": 68,
     "metadata": {},
     "output_type": "execute_result"
    }
   ],
   "source": [
    "list_value[5:]"
   ]
  },
  {
   "cell_type": "code",
   "execution_count": 69,
   "id": "18634db9",
   "metadata": {},
   "outputs": [
    {
     "data": {
      "text/plain": [
       "[9, 8, 8, 7, 7, 7, 7, 16, 2, 2, 2, 3, 4, 5]"
      ]
     },
     "execution_count": 69,
     "metadata": {},
     "output_type": "execute_result"
    }
   ],
   "source": [
    "list_value[::-1]"
   ]
  },
  {
   "cell_type": "code",
   "execution_count": 70,
   "id": "a6c805cc",
   "metadata": {},
   "outputs": [
    {
     "data": {
      "text/plain": [
       "[9, 8, 8, 7, 7, 7, 7, 16, 2, 2, 2, 3, 4, 5]"
      ]
     },
     "execution_count": 70,
     "metadata": {},
     "output_type": "execute_result"
    }
   ],
   "source": [
    "list_value.reverse()\n",
    "list_value"
   ]
  },
  {
   "cell_type": "code",
   "execution_count": 71,
   "id": "1f62fd07",
   "metadata": {},
   "outputs": [
    {
     "data": {
      "text/plain": [
       "[9, 8, 8, 7, 7, 7, 7, 16, 2, 2, 2, 3, 4, 5, 2022]"
      ]
     },
     "execution_count": 71,
     "metadata": {},
     "output_type": "execute_result"
    }
   ],
   "source": [
    "list_value.append(2022)\n",
    "list_value"
   ]
  },
  {
   "cell_type": "code",
   "execution_count": 72,
   "id": "1804f801",
   "metadata": {},
   "outputs": [
    {
     "data": {
      "text/plain": [
       "[9, 8, 8, 7, 7, 7, 7, 16, 2, 2, 2, 3, 4, 5]"
      ]
     },
     "execution_count": 72,
     "metadata": {},
     "output_type": "execute_result"
    }
   ],
   "source": [
    "list_value.remove(2022)\n",
    "list_value"
   ]
  },
  {
   "cell_type": "markdown",
   "id": "33c6c38b",
   "metadata": {},
   "source": [
    "**Tuple**"
   ]
  },
  {
   "cell_type": "code",
   "execution_count": 81,
   "id": "3e9cbbff",
   "metadata": {},
   "outputs": [
    {
     "data": {
      "text/plain": [
       "(9, 8, 8, 7, 7, 7, 7, 16, 2, 2, 2, 3, 4, 5)"
      ]
     },
     "execution_count": 81,
     "metadata": {},
     "output_type": "execute_result"
    }
   ],
   "source": [
    "tuple_value = tuple(list_value)\n",
    "tuple_value"
   ]
  },
  {
   "cell_type": "code",
   "execution_count": 82,
   "id": "7f54dead",
   "metadata": {},
   "outputs": [
    {
     "data": {
      "text/plain": [
       "9"
      ]
     },
     "execution_count": 82,
     "metadata": {},
     "output_type": "execute_result"
    }
   ],
   "source": [
    "tuple_value[0]"
   ]
  },
  {
   "cell_type": "code",
   "execution_count": 83,
   "id": "f625f3cf",
   "metadata": {},
   "outputs": [
    {
     "ename": "TypeError",
     "evalue": "'tuple' object does not support item assignment",
     "output_type": "error",
     "traceback": [
      "\u001b[1;31m---------------------------------------------------------------------------\u001b[0m",
      "\u001b[1;31mTypeError\u001b[0m                                 Traceback (most recent call last)",
      "Input \u001b[1;32mIn [83]\u001b[0m, in \u001b[0;36m<cell line: 1>\u001b[1;34m()\u001b[0m\n\u001b[1;32m----> 1\u001b[0m tuple_value[\u001b[38;5;241m2\u001b[39m] \u001b[38;5;241m=\u001b[39m \u001b[38;5;241m123\u001b[39m\n",
      "\u001b[1;31mTypeError\u001b[0m: 'tuple' object does not support item assignment"
     ]
    }
   ],
   "source": [
    "tuple_value[2] = 123"
   ]
  },
  {
   "cell_type": "markdown",
   "id": "ad1f66d7",
   "metadata": {},
   "source": [
    "**Set**\n",
    "\n",
    "[More advanced operations](https://snakify.org/pl/lessons/sets/#section_4) "
   ]
  },
  {
   "cell_type": "code",
   "execution_count": 78,
   "id": "8b16068f",
   "metadata": {},
   "outputs": [
    {
     "data": {
      "text/plain": [
       "{2, 3, 4, 5, 7, 8, 9, 16}"
      ]
     },
     "execution_count": 78,
     "metadata": {},
     "output_type": "execute_result"
    }
   ],
   "source": [
    "set_value = set(list_value)\n",
    "set_value"
   ]
  },
  {
   "cell_type": "code",
   "execution_count": 79,
   "id": "53302cfb",
   "metadata": {},
   "outputs": [
    {
     "data": {
      "text/plain": [
       "{0, 2, 3, 4, 5, 7, 8, 9, 16}"
      ]
     },
     "execution_count": 79,
     "metadata": {},
     "output_type": "execute_result"
    }
   ],
   "source": [
    "set_value.add(0)\n",
    "set_value"
   ]
  },
  {
   "cell_type": "markdown",
   "id": "90d63b24",
   "metadata": {},
   "source": [
    "## Loops "
   ]
  },
  {
   "cell_type": "markdown",
   "id": "ced3df6d",
   "metadata": {},
   "source": [
    "### For Loop\n"
   ]
  },
  {
   "cell_type": "code",
   "execution_count": 84,
   "id": "366dc606",
   "metadata": {},
   "outputs": [
    {
     "name": "stdout",
     "output_type": "stream",
     "text": [
      "9\n",
      "8\n",
      "8\n",
      "7\n",
      "7\n",
      "7\n",
      "7\n",
      "16\n",
      "2\n",
      "2\n",
      "2\n",
      "3\n",
      "4\n",
      "5\n"
     ]
    }
   ],
   "source": [
    "for value in list_value:\n",
    "    print(value)"
   ]
  },
  {
   "cell_type": "code",
   "execution_count": 85,
   "id": "9c65783b",
   "metadata": {},
   "outputs": [
    {
     "name": "stdout",
     "output_type": "stream",
     "text": [
      "0\n",
      "1\n",
      "2\n"
     ]
    }
   ],
   "source": [
    "for i in range(3):\n",
    "    print(i)"
   ]
  },
  {
   "cell_type": "code",
   "execution_count": 88,
   "id": "f6b27f74",
   "metadata": {},
   "outputs": [
    {
     "name": "stdout",
     "output_type": "stream",
     "text": [
      "-2\n",
      "-1\n",
      "0\n",
      "1\n",
      "2\n"
     ]
    }
   ],
   "source": [
    "for i in range(-2,3,1):\n",
    "    print(i)"
   ]
  },
  {
   "cell_type": "markdown",
   "id": "382229ea",
   "metadata": {},
   "source": [
    "### While loop"
   ]
  },
  {
   "cell_type": "code",
   "execution_count": 90,
   "id": "7ac7c01f",
   "metadata": {},
   "outputs": [
    {
     "name": "stdout",
     "output_type": "stream",
     "text": [
      "Status is True and 'i' = 0\n",
      "Status is True and 'i' = 1\n",
      "Status is True and 'i' = 2\n"
     ]
    }
   ],
   "source": [
    "status = True\n",
    "i = 0\n",
    "while status:\n",
    "    print(f\"Status is {status} and 'i' = {i}\")\n",
    "    if i == 2:\n",
    "        status = False\n",
    "    i += 1"
   ]
  },
  {
   "cell_type": "code",
   "execution_count": 92,
   "id": "9b888a6f",
   "metadata": {},
   "outputs": [
    {
     "name": "stdout",
     "output_type": "stream",
     "text": [
      "'i' = 0\n",
      "'i' = 1\n",
      "'i' = 2\n"
     ]
    }
   ],
   "source": [
    "i = 0\n",
    "while True:\n",
    "    print(f\"'i' = {i}\")\n",
    "    if i == 2:\n",
    "        break\n",
    "    i += 1"
   ]
  },
  {
   "cell_type": "markdown",
   "id": "c23d2f15",
   "metadata": {},
   "source": [
    "## Functions "
   ]
  },
  {
   "cell_type": "code",
   "execution_count": 95,
   "id": "c0f5e53d",
   "metadata": {},
   "outputs": [],
   "source": [
    "def add_values(a,b):\n",
    "    result = a + b\n",
    "    return result"
   ]
  },
  {
   "cell_type": "code",
   "execution_count": 96,
   "id": "d46f0474",
   "metadata": {},
   "outputs": [
    {
     "data": {
      "text/plain": [
       "10"
      ]
     },
     "execution_count": 96,
     "metadata": {},
     "output_type": "execute_result"
    }
   ],
   "source": [
    "sum_of_numbers = add_values(5,5)\n",
    "sum_of_numbers"
   ]
  },
  {
   "cell_type": "code",
   "execution_count": 98,
   "id": "4b6c21c3",
   "metadata": {},
   "outputs": [
    {
     "name": "stdout",
     "output_type": "stream",
     "text": [
      "21\n",
      "23\n",
      "25\n",
      "27\n",
      "29\n"
     ]
    }
   ],
   "source": [
    "def print_odd_numbers(start,end):\n",
    "    for number in range(start,end):\n",
    "        if number % 2 != 0:\n",
    "            print(number)\n",
    "print_odd_numbers(20,30)"
   ]
  }
 ],
 "metadata": {
  "kernelspec": {
   "display_name": "academy_venv",
   "language": "python",
   "name": "academy_venv"
  },
  "language_info": {
   "codemirror_mode": {
    "name": "ipython",
    "version": 3
   },
   "file_extension": ".py",
   "mimetype": "text/x-python",
   "name": "python",
   "nbconvert_exporter": "python",
   "pygments_lexer": "ipython3",
   "version": "3.8.0"
  }
 },
 "nbformat": 4,
 "nbformat_minor": 5
}
