{
 "cells": [
  {
   "cell_type": "markdown",
   "id": "ce6e2112",
   "metadata": {},
   "source": [
    "# Datatypes and Data structures"
   ]
  },
  {
   "cell_type": "markdown",
   "id": "cdea16d0",
   "metadata": {},
   "source": [
    "This section introduces data structures in the form of tuples and dictionaries.\n",
    "\n"
   ]
  },
  {
   "cell_type": "markdown",
   "id": "539c2984",
   "metadata": {},
   "source": [
    "### STRING\n",
    "\n",
    "\n",
    "```python\n",
    ">> print(\"Hello! It's me MARIOOO\")\n",
    "```"
   ]
  },
  {
   "cell_type": "code",
   "execution_count": 66,
   "id": "cd2b7e9b",
   "metadata": {},
   "outputs": [
    {
     "name": "stdout",
     "output_type": "stream",
     "text": [
      "Hello! It's me MARIOOO\n"
     ]
    }
   ],
   "source": [
    "print(\"Hello! It's me MARIOOO\")"
   ]
  },
  {
   "cell_type": "markdown",
   "id": "1bfaf782",
   "metadata": {},
   "source": [
    "How to check lenght of your string:"
   ]
  },
  {
   "cell_type": "code",
   "execution_count": 69,
   "id": "737d82b4",
   "metadata": {},
   "outputs": [
    {
     "data": {
      "text/plain": [
       "7"
      ]
     },
     "execution_count": 69,
     "metadata": {},
     "output_type": "execute_result"
    }
   ],
   "source": [
    "mario = 'MARIOOO'\n",
    "len(mario)"
   ]
  },
  {
   "cell_type": "markdown",
   "id": "7bb3dea3",
   "metadata": {},
   "source": [
    "Get the first letter of your string "
   ]
  },
  {
   "cell_type": "code",
   "execution_count": 70,
   "id": "17f7576d",
   "metadata": {},
   "outputs": [
    {
     "data": {
      "text/plain": [
       "'M'"
      ]
     },
     "execution_count": 70,
     "metadata": {},
     "output_type": "execute_result"
    }
   ],
   "source": [
    "mario[0]"
   ]
  },
  {
   "cell_type": "markdown",
   "id": "0ada3ec1",
   "metadata": {},
   "source": [
    "How to modify the displayed content"
   ]
  },
  {
   "cell_type": "code",
   "execution_count": 71,
   "id": "7020d30f",
   "metadata": {},
   "outputs": [
    {
     "data": {
      "text/plain": [
       "'Best name is MARIOOO'"
      ]
     },
     "execution_count": 71,
     "metadata": {},
     "output_type": "execute_result"
    }
   ],
   "source": [
    "f\"Best name is {mario}\""
   ]
  },
  {
   "cell_type": "code",
   "execution_count": 72,
   "id": "ec9cd275",
   "metadata": {},
   "outputs": [
    {
     "data": {
      "text/plain": [
       "'MARIOOO is the best'"
      ]
     },
     "execution_count": 72,
     "metadata": {},
     "output_type": "execute_result"
    }
   ],
   "source": [
    "\"{} is the best\".format(mario)"
   ]
  },
  {
   "cell_type": "markdown",
   "id": "f4ba7825",
   "metadata": {},
   "source": [
    "### String Indexing\n",
    "\n",
    "Strings work like an array for accessing individual characters. You use an integer index, starting at 0.\n",
    "Negative indices specify a position relative to the end of the string.\n",
    "\n",
    "```python\n",
    "a = 'Hello world'\n",
    "b = a[0]          # 'H'\n",
    "c = a[4]          # 'o'\n",
    "d = a[-1]         # 'd' (end of string)\n",
    "```\n",
    "\n",
    "You can also slice or select substrings specifying a range of indices with `:`.\n",
    "\n",
    "```python\n",
    "d = a[:5]     # 'Hello'\n",
    "e = a[6:]     # 'world'\n",
    "f = a[3:8]    # 'lo wo'\n",
    "g = a[-5:]    # 'world'\n",
    "```\n",
    "\n",
    "The character at the ending index is not included.  Missing indices assume the beginning or ending of the string.m"
   ]
  },
  {
   "cell_type": "markdown",
   "id": "571f45bb",
   "metadata": {},
   "source": [
    "### String operations\n",
    "\n",
    "Concatenation, length, membership and replication.\n",
    "\n",
    "```python\n",
    "# Concatenation (+)\n",
    "a = 'Hello' + 'World'   # 'HelloWorld'\n",
    "b = 'Say ' + a          # 'Say HelloWorld'\n",
    "\n",
    "# Length (len)\n",
    "s = 'Hello'\n",
    "len(s)                  # 5\n",
    "\n",
    "# Membership test (`in`, `not in`)\n",
    "t = 'e' in s            # True\n",
    "f = 'x' in s            # False\n",
    "g = 'hi' not in s       # True\n",
    "\n",
    "# Replication (s * n)\n",
    "rep = s * 5             # 'HelloHelloHelloHelloHello'\n",
    "```"
   ]
  },
  {
   "cell_type": "markdown",
   "id": "5c81ba05",
   "metadata": {},
   "source": [
    "### String methods\n",
    "\n",
    "Strings have methods that perform various operations with the string data.\n",
    "\n",
    "Example: stripping any leading / trailing white space.\n",
    "\n",
    "```python\n",
    "s = '  Hello '\n",
    "t = s.strip()     # 'Hello'\n",
    "```\n",
    "\n",
    "Example: Case conversion.\n",
    "\n",
    "```python\n",
    "s = 'Hello'\n",
    "l = s.lower()     # 'hello'\n",
    "u = s.upper()     # 'HELLO'\n",
    "```\n",
    "\n",
    "Example: Replacing text.\n",
    "\n",
    "```python\n",
    "s = 'Hello world'\n",
    "t = s.replace('Hello' , 'Hallo')   # 'Hallo world'\n",
    "```\n"
   ]
  },
  {
   "cell_type": "markdown",
   "id": "ad93ada2",
   "metadata": {},
   "source": [
    "**More string methods:**\n",
    "\n",
    "Strings have a wide variety of other methods for testing and manipulating the text data.\n",
    "This is a small sample of methods:\n",
    "\n",
    "```python\n",
    "s.endswith(suffix)     # Check if string ends with suffix\n",
    "s.find(t)              # First occurrence of t in s\n",
    "s.index(t)             # First occurrence of t in s\n",
    "s.isalpha()            # Check if characters are alphabetic\n",
    "s.isdigit()            # Check if characters are numeric\n",
    "s.islower()            # Check if characters are lower-case\n",
    "s.isupper()            # Check if characters are upper-case\n",
    "s.join(slist)          # Join a list of strings using s as delimiter\n",
    "s.lower()              # Convert to lower case\n",
    "s.replace(old,new)     # Replace text\n",
    "s.rfind(t)             # Search for t from end of string\n",
    "s.rindex(t)            # Search for t from end of string\n",
    "s.split([delim])       # Split string into list of substrings\n",
    "s.startswith(prefix)   # Check if string starts with prefix\n",
    "s.strip()              # Strip leading/trailing space\n",
    "s.upper()              # Convert to upper case\n",
    "```\n"
   ]
  },
  {
   "cell_type": "markdown",
   "id": "3ac826cb",
   "metadata": {},
   "source": [
    "### Exercise\n",
    "Create your own string that will describe you. Where your information will be variables of python."
   ]
  },
  {
   "cell_type": "code",
   "execution_count": 73,
   "id": "f7de6471",
   "metadata": {},
   "outputs": [],
   "source": [
    "# TODO"
   ]
  },
  {
   "cell_type": "markdown",
   "id": "4ce426f1",
   "metadata": {},
   "source": [
    "Check length of your string:"
   ]
  },
  {
   "cell_type": "code",
   "execution_count": 74,
   "id": "abdc5a83",
   "metadata": {},
   "outputs": [],
   "source": [
    "# TODO"
   ]
  },
  {
   "cell_type": "markdown",
   "id": "64954476",
   "metadata": {},
   "source": [
    "### Types of Numbers\n",
    "\n",
    "Python has 4 types of numbers:\n",
    "\n",
    "* Booleans\n",
    "* Integers\n",
    "* Floating point\n",
    "* Complex (imaginary numbers)\n",
    "\n",
    "### Booleans (bool)\n",
    "\n",
    "Booleans have two values: `True`, `False`."
   ]
  },
  {
   "cell_type": "code",
   "execution_count": 1,
   "id": "0b6540c6",
   "metadata": {},
   "outputs": [],
   "source": [
    "a = True\n",
    "b = False"
   ]
  },
  {
   "cell_type": "markdown",
   "id": "7353f528",
   "metadata": {},
   "source": [
    "Numerically, they're evaluated as integers with value `1`, `0`."
   ]
  },
  {
   "cell_type": "code",
   "execution_count": 1,
   "id": "dd4c644e",
   "metadata": {},
   "outputs": [
    {
     "name": "stdout",
     "output_type": "stream",
     "text": [
      "d is False\n",
      "5\n"
     ]
    }
   ],
   "source": [
    "c = 4 + True \n",
    "d = False\n",
    "if d == 0:\n",
    "    print('d is False')"
   ]
  },
  {
   "cell_type": "markdown",
   "id": "0f2594ba",
   "metadata": {},
   "source": [
    "**But, don't write code like that. It would be odd.**\n",
    "\n"
   ]
  },
  {
   "cell_type": "markdown",
   "id": "a2411683",
   "metadata": {},
   "source": [
    "### Exercise\n",
    "Convert int value to boolean type:"
   ]
  },
  {
   "cell_type": "code",
   "execution_count": null,
   "id": "6dd91cbb",
   "metadata": {},
   "outputs": [],
   "source": [
    "# TODO"
   ]
  },
  {
   "cell_type": "markdown",
   "id": "7d316284",
   "metadata": {},
   "source": [
    "### Integers (int)\n",
    "Signed values of arbitrary size and base:\n",
    "\n"
   ]
  },
  {
   "cell_type": "code",
   "execution_count": 3,
   "id": "68a541d0",
   "metadata": {},
   "outputs": [],
   "source": [
    "a = 37\n",
    "b = -299392993727716627377128481812241231\n",
    "c = 0x7fa8      # Hexadecimal\n",
    "d = 0o253       # Octal\n",
    "e = 0b10001111  # Binary"
   ]
  },
  {
   "cell_type": "markdown",
   "id": "d7cad862",
   "metadata": {},
   "source": [
    "Common operations:\n",
    "\n",
    "```\n",
    "x + y      Add\n",
    "x - y      Subtract\n",
    "x * y      Multiply\n",
    "x / y      Divide (produces a float)\n",
    "x // y     Floor Divide (produces an integer)\n",
    "x % y      Modulo (remainder)\n",
    "x ** y     Power\n",
    "x << n     Bit shift left\n",
    "x >> n     Bit shift right\n",
    "x & y      Bit-wise AND\n",
    "x | y      Bit-wise OR\n",
    "x ^ y      Bit-wise XOR\n",
    "abs(x)     Absolute value\n",
    "```"
   ]
  },
  {
   "cell_type": "markdown",
   "id": "781ef491",
   "metadata": {},
   "source": [
    "### Exercise\n",
    "Calculate value of delta with b = 10, a = 2, c = 5:\n",
    "![title](images/delta.png)"
   ]
  },
  {
   "cell_type": "code",
   "execution_count": null,
   "id": "ea406e0a",
   "metadata": {},
   "outputs": [],
   "source": [
    "delta = ... # TODO\n",
    "assert delta == 60"
   ]
  },
  {
   "cell_type": "markdown",
   "id": "ef78940a",
   "metadata": {},
   "source": [
    "Devide two any odd numbers and round to int value "
   ]
  },
  {
   "cell_type": "code",
   "execution_count": 67,
   "id": "7d9bec6e",
   "metadata": {},
   "outputs": [],
   "source": [
    "# TODO\n"
   ]
  },
  {
   "cell_type": "markdown",
   "id": "b8908e88",
   "metadata": {},
   "source": [
    "### Floating point (float)\n"
   ]
  },
  {
   "cell_type": "markdown",
   "id": "c4144e66",
   "metadata": {},
   "source": [
    "Use a decimal or exponential notation to specify a floating point value:\n",
    "\n",
    "```python\n",
    "a = 37.45\n",
    "b = 4e5 # 4 x 10**5 or 400,000\n",
    "c = -1.345e-10\n",
    "```"
   ]
  },
  {
   "cell_type": "markdown",
   "id": "959ef08a",
   "metadata": {},
   "source": [
    "Floats are represented as double precision using the native CPU representation [IEEE 754](https://en.wikipedia.org/wiki/IEEE_754).\n",
    "This is the same as the `double` type in the programming language C.\n",
    "> 17 digits of precision  \n",
    "> Exponent from -308 to 308\n",
    "\n",
    "Be aware that floating point numbers are inexact when representing decimals.\n",
    "```python\n",
    ">>> a = 2.1 + 4.2\n",
    ">>> a == 6.3\n",
    "False\n",
    ">>> a\n",
    "6.300000000000001\n",
    ">>>\n",
    "```"
   ]
  },
  {
   "cell_type": "markdown",
   "id": "1cc656a6",
   "metadata": {},
   "source": [
    "This is **not a Python issue**, but the underlying floating point hardware on the CPU.\n",
    "\n",
    "Common Operations:\n",
    "\n",
    "```\n",
    "x + y      Add\n",
    "x - y      Subtract\n",
    "x * y      Multiply\n",
    "x / y      Divide\n",
    "x // y     Floor Divide\n",
    "x % y      Modulo\n",
    "x ** y     Power\n",
    "abs(x)     Absolute Value\n",
    "```\n"
   ]
  },
  {
   "cell_type": "markdown",
   "id": "5f3ca669",
   "metadata": {},
   "source": [
    "These are the same operators as Integers, except for the bit-wise operators.\n",
    "Additional math functions are found in the `math` module.\n"
   ]
  },
  {
   "cell_type": "code",
   "execution_count": 6,
   "id": "b3728c1b",
   "metadata": {},
   "outputs": [],
   "source": [
    "import math\n",
    "x = 60\n",
    "a = math.sqrt(x)\n",
    "b = math.sin(x)\n",
    "c = math.cos(x)\n",
    "d = math.tan(x)\n",
    "e = math.log(x)"
   ]
  },
  {
   "cell_type": "markdown",
   "id": "6038b729",
   "metadata": {},
   "source": [
    "### Exercise\n",
    "Calculate value of x_1 with b = 10, a = 2, delta = 16:"
   ]
  },
  {
   "cell_type": "code",
   "execution_count": 8,
   "id": "65034cbf",
   "metadata": {},
   "outputs": [],
   "source": [
    "# TODO"
   ]
  },
  {
   "cell_type": "markdown",
   "id": "438558dd",
   "metadata": {},
   "source": [
    "Round the value og x_1 to two decimal places"
   ]
  },
  {
   "cell_type": "code",
   "execution_count": 11,
   "id": "dc9501f1",
   "metadata": {},
   "outputs": [],
   "source": [
    "# TODO"
   ]
  },
  {
   "cell_type": "markdown",
   "id": "fa3faa8b",
   "metadata": {},
   "source": [
    "### Comparisons\n",
    "\n",
    "The following comparison / relational operators work with numbers:\n",
    "```\n",
    "x < y      Less than\n",
    "x <= y     Less than or equal\n",
    "x > y      Greater than\n",
    "x >= y     Greater than or equal\n",
    "x == y     Equal to\n",
    "x != y     Not equal to\n",
    "```"
   ]
  },
  {
   "cell_type": "markdown",
   "id": "395e4eb3",
   "metadata": {},
   "source": [
    "You can form more complex boolean expressions using\n",
    "\n",
    "`and`, `or`, `not`\n",
    "\n",
    "Here are a few examples:\n",
    "\n",
    "```python\n",
    "if b >= a and b <= c:\n",
    "    print('b is between a and c')\n",
    "\n",
    "if not (b < a or b > c):\n",
    "    print('b is still between a and c')\n",
    "```\n"
   ]
  },
  {
   "cell_type": "markdown",
   "id": "2e6b4bec",
   "metadata": {},
   "source": [
    "### Exercise\n",
    "Write if statment where will check if number is between 4 and 7 and is not equal to 5"
   ]
  },
  {
   "cell_type": "code",
   "execution_count": 12,
   "id": "35428c8b",
   "metadata": {},
   "outputs": [],
   "source": [
    "# TODO"
   ]
  },
  {
   "cell_type": "markdown",
   "id": "e36d7806",
   "metadata": {},
   "source": [
    "Write if statment where will check if number is between -5 and 5 or is equal to 100"
   ]
  },
  {
   "cell_type": "code",
   "execution_count": 14,
   "id": "169e1b80",
   "metadata": {},
   "outputs": [],
   "source": [
    "# TODO"
   ]
  },
  {
   "cell_type": "markdown",
   "id": "c576e9f2",
   "metadata": {},
   "source": [
    "Write if statment where will check if number is equal 10 and not 8,9,11,12"
   ]
  },
  {
   "cell_type": "code",
   "execution_count": 14,
   "id": "520e34cf",
   "metadata": {},
   "outputs": [],
   "source": [
    "# TODO"
   ]
  },
  {
   "cell_type": "markdown",
   "id": "a1dcd5e5",
   "metadata": {},
   "source": [
    "Write if statment where will check if number is between 0 and 10 and is even number "
   ]
  },
  {
   "cell_type": "code",
   "execution_count": 16,
   "id": "63425122",
   "metadata": {},
   "outputs": [],
   "source": [
    "# TODO"
   ]
  },
  {
   "cell_type": "markdown",
   "id": "74dc3c67",
   "metadata": {},
   "source": [
    "Write if statment where will check if number is biger than -10 and is odd number "
   ]
  },
  {
   "cell_type": "code",
   "execution_count": 17,
   "id": "9382703e",
   "metadata": {},
   "outputs": [],
   "source": [
    "# TODO"
   ]
  },
  {
   "cell_type": "markdown",
   "id": "d3d99245",
   "metadata": {},
   "source": [
    "### Converting Numbers"
   ]
  },
  {
   "cell_type": "markdown",
   "id": "ded4e899",
   "metadata": {},
   "source": [
    "The type name can be used to convert values:"
   ]
  },
  {
   "cell_type": "code",
   "execution_count": 7,
   "id": "26475689",
   "metadata": {},
   "outputs": [],
   "source": [
    "a = int(x)    # Convert x to integer\n",
    "b = float(x)  # Convert x to float"
   ]
  },
  {
   "cell_type": "markdown",
   "id": "b5972279",
   "metadata": {},
   "source": [
    "Try it out.\n",
    "\n",
    "```python\n",
    ">>> a = 3.14159\n",
    ">>> int(a)\n",
    "3\n",
    ">>> b = '3.14159' # It also works with strings containing numbers\n",
    ">>> float(b)\n",
    "3.14159\n",
    ">>>\n",
    "```"
   ]
  },
  {
   "cell_type": "markdown",
   "id": "669e4ccd",
   "metadata": {},
   "source": [
    "### None type\n"
   ]
  },
  {
   "cell_type": "code",
   "execution_count": 9,
   "id": "01727e2d",
   "metadata": {},
   "outputs": [],
   "source": [
    "email_address = None"
   ]
  },
  {
   "cell_type": "markdown",
   "id": "35c5740c",
   "metadata": {},
   "source": [
    "`None` is often used as a placeholder for optional or missing value.  It\n",
    "evaluates as `False` in conditionals.\n"
   ]
  },
  {
   "cell_type": "markdown",
   "id": "dbdabe88",
   "metadata": {},
   "source": [
    "```python\n",
    "if email_address:\n",
    "    send_email(email_address, msg)\n",
    "```"
   ]
  },
  {
   "cell_type": "markdown",
   "id": "0b2ec4d8",
   "metadata": {},
   "source": [
    "### Data Structures\n",
    "Real programs have more complex data. For example information about a stock holding:\n",
    "```code\n",
    "100 shares of GOOG at $490.10\n",
    "```\n",
    "This is an \"object\" with three parts:\n",
    "\n",
    "* Name or symbol of the stock (\"GOOG\", a string)\n",
    "* Number of shares (100, an integer)\n",
    "* Price (490.10 a float)"
   ]
  },
  {
   "cell_type": "markdown",
   "id": "3740d8b1",
   "metadata": {},
   "source": [
    "### Tuples\n",
    "\n",
    "A tuple is a collection of values grouped together.\n",
    "\n",
    "Example:\n"
   ]
  },
  {
   "cell_type": "code",
   "execution_count": 12,
   "id": "299e1506",
   "metadata": {},
   "outputs": [
    {
     "data": {
      "text/plain": [
       "('GOOG', 100, 490.1)"
      ]
     },
     "execution_count": 12,
     "metadata": {},
     "output_type": "execute_result"
    }
   ],
   "source": [
    "s = ('GOOG', 100, 490.1)\n",
    "s"
   ]
  },
  {
   "cell_type": "markdown",
   "id": "c56c9e5a",
   "metadata": {},
   "source": [
    "Sometimes the `()` are omitted in the syntax.\n"
   ]
  },
  {
   "cell_type": "code",
   "execution_count": 14,
   "id": "5a299080",
   "metadata": {},
   "outputs": [
    {
     "data": {
      "text/plain": [
       "('GOOG', 100, 490.1)"
      ]
     },
     "execution_count": 14,
     "metadata": {},
     "output_type": "execute_result"
    }
   ],
   "source": [
    "s = 'GOOG', 100, 490.1\n",
    "s"
   ]
  },
  {
   "cell_type": "markdown",
   "id": "30b65345",
   "metadata": {},
   "source": [
    "Special cases (0-tuple, 1-tuple).\n"
   ]
  },
  {
   "cell_type": "code",
   "execution_count": 15,
   "id": "93826188",
   "metadata": {},
   "outputs": [],
   "source": [
    "t = ()            # An empty tuple\n",
    "w = ('GOOG', )    # A 1-item tuple"
   ]
  },
  {
   "cell_type": "markdown",
   "id": "ea7e6f0a",
   "metadata": {},
   "source": [
    "Tuples are often used to represent *simple* records or structures.\n",
    "Typically, it is a single *object* of multiple parts. A good analogy: *A tuple is like a single row in a database table.*\n",
    "\n",
    "Tuple contents are ordered (like an array).\n"
   ]
  },
  {
   "cell_type": "code",
   "execution_count": 16,
   "id": "5401fbbe",
   "metadata": {},
   "outputs": [],
   "source": [
    "name = s[0]                 # 'GOOG'\n",
    "shares = s[1]               # 100\n",
    "price = s[2]                # 490.1"
   ]
  },
  {
   "cell_type": "markdown",
   "id": "f940f54c",
   "metadata": {},
   "source": [
    "However, the contents can't be modified.\n"
   ]
  },
  {
   "cell_type": "markdown",
   "id": "f0ec5876",
   "metadata": {},
   "source": [
    "```python\n",
    ">>> s[1] = 75\n",
    "TypeError: object does not support item assignment\n",
    "```\n",
    "\n",
    "You can, however, make a new tuple based on a current tuple.\n"
   ]
  },
  {
   "cell_type": "code",
   "execution_count": 19,
   "id": "b96d4203",
   "metadata": {},
   "outputs": [
    {
     "data": {
      "text/plain": [
       "('GOOG', 75, 490.1)"
      ]
     },
     "execution_count": 19,
     "metadata": {},
     "output_type": "execute_result"
    }
   ],
   "source": [
    "s = (s[0], 75, s[2])\n",
    "s"
   ]
  },
  {
   "cell_type": "markdown",
   "id": "4fdd35e7",
   "metadata": {},
   "source": [
    "### Tuple Packing\n",
    "\n",
    "Tuples are more about packing related items together into a single *entity*."
   ]
  },
  {
   "cell_type": "code",
   "execution_count": 20,
   "id": "5452039f",
   "metadata": {},
   "outputs": [
    {
     "data": {
      "text/plain": [
       "('GOOG', 100, 490.1)"
      ]
     },
     "execution_count": 20,
     "metadata": {},
     "output_type": "execute_result"
    }
   ],
   "source": [
    "s = ('GOOG', 100, 490.1)\n",
    "s"
   ]
  },
  {
   "cell_type": "markdown",
   "id": "4270b134",
   "metadata": {},
   "source": [
    "The tuple is then easy to pass around to other parts of a program as a single object.\n"
   ]
  },
  {
   "cell_type": "markdown",
   "id": "484fea99",
   "metadata": {},
   "source": [
    "\n",
    "### Tuple Unpacking\n",
    "\n",
    "To use the tuple elsewhere, you can unpack its parts into variables.\n"
   ]
  },
  {
   "cell_type": "code",
   "execution_count": 21,
   "id": "dec31305",
   "metadata": {},
   "outputs": [
    {
     "name": "stdout",
     "output_type": "stream",
     "text": [
      "Cost 49010.0\n"
     ]
    }
   ],
   "source": [
    "name, shares, price = s\n",
    "print('Cost', shares * price)"
   ]
  },
  {
   "cell_type": "markdown",
   "id": "158e382d",
   "metadata": {},
   "source": [
    "The number of variables on the left must match the tuple structure.\n",
    "```python\n",
    "name, shares = s     # ERROR\n",
    "Traceback (most recent call last):\n",
    "...\n",
    "ValueError: too many values to unpack\n",
    "```\n"
   ]
  },
  {
   "cell_type": "markdown",
   "id": "41b1eb11",
   "metadata": {},
   "source": [
    "### Exercise\n",
    "Create your own tuple with information about yourself (name,surname,age,color of eyes, weight, height) and assign it to a variable.\n"
   ]
  },
  {
   "cell_type": "code",
   "execution_count": 18,
   "id": "2e646e42",
   "metadata": {},
   "outputs": [],
   "source": [
    "# TODO"
   ]
  },
  {
   "cell_type": "markdown",
   "id": "2e4f5abc",
   "metadata": {},
   "source": [
    "Calculate length of your tuple:"
   ]
  },
  {
   "cell_type": "code",
   "execution_count": null,
   "id": "100cfdc3",
   "metadata": {},
   "outputs": [],
   "source": [
    "# TODO"
   ]
  },
  {
   "cell_type": "markdown",
   "id": "c550fbbe",
   "metadata": {},
   "source": [
    "Extract your name from your tuple and also assign it to a new variable "
   ]
  },
  {
   "cell_type": "code",
   "execution_count": 19,
   "id": "f6df8b0f",
   "metadata": {},
   "outputs": [],
   "source": [
    "# TODO"
   ]
  },
  {
   "cell_type": "markdown",
   "id": "035b354f",
   "metadata": {},
   "source": [
    "Calculate your BMI taking values from your tuple. BMI = weight (kg) / height ** 2 (m)"
   ]
  },
  {
   "cell_type": "code",
   "execution_count": 20,
   "id": "2ae72819",
   "metadata": {},
   "outputs": [],
   "source": [
    "# TODO"
   ]
  },
  {
   "cell_type": "markdown",
   "id": "7ca100ad",
   "metadata": {},
   "source": [
    "### Tuples vs. Lists\n",
    "\n",
    "Tuples look like read-only lists. However, tuples are most often used\n",
    "for a *single item* consisting of multiple parts.  Lists are usually a\n",
    "collection of distinct items, usually all of the same type."
   ]
  },
  {
   "cell_type": "code",
   "execution_count": 22,
   "id": "4da5fc70",
   "metadata": {},
   "outputs": [],
   "source": [
    "record = ('GOOG', 100, 490.1)       # A tuple representing a record in a portfolio\n",
    "\n",
    "symbols = [ 'GOOG', 'AAPL', 'IBM' ]  # A List representing three stock symbols"
   ]
  },
  {
   "cell_type": "markdown",
   "id": "59139cf8",
   "metadata": {},
   "source": [
    "### Lists\n",
    "Add values to list:"
   ]
  },
  {
   "cell_type": "code",
   "execution_count": 29,
   "id": "7ba6f6b2",
   "metadata": {},
   "outputs": [
    {
     "name": "stdout",
     "output_type": "stream",
     "text": [
      "[1, 2, 3, 4, 5]\n",
      "[1, 2, 3, 4, 5, 2222]\n"
     ]
    }
   ],
   "source": [
    "temp_list = [1 ,2 ,3, 4, 5]\n",
    "print(temp_list)\n",
    "temp_list.append(2222)\n",
    "print(temp_list)"
   ]
  },
  {
   "cell_type": "code",
   "execution_count": 30,
   "id": "d49ab073",
   "metadata": {},
   "outputs": [
    {
     "data": {
      "text/plain": [
       "[1, 2, 10000, 3, 4, 5, 2222]"
      ]
     },
     "execution_count": 30,
     "metadata": {},
     "output_type": "execute_result"
    }
   ],
   "source": [
    "temp_list.insert(2,10000)\n",
    "temp_list"
   ]
  },
  {
   "cell_type": "markdown",
   "id": "6a9987b7",
   "metadata": {},
   "source": [
    "### List slicing\n",
    "In Python, list slicing is a common practice and it is the most used technique for programmers to solve efficient problems. Consider a python list, In-order to access a range of elements in a list, you need to slice a list. One way to do this is to use the simple slicing operator i.e. colon(:)\n",
    "\n",
    "```\n",
    "Lst[ Initial : End : IndexJump ]\n",
    "```"
   ]
  },
  {
   "cell_type": "code",
   "execution_count": 32,
   "id": "edab7ec9",
   "metadata": {},
   "outputs": [
    {
     "data": {
      "text/plain": [
       "[1, 2]"
      ]
     },
     "execution_count": 32,
     "metadata": {},
     "output_type": "execute_result"
    }
   ],
   "source": [
    "temp_list[:2]"
   ]
  },
  {
   "cell_type": "code",
   "execution_count": 33,
   "id": "9b0d9846",
   "metadata": {},
   "outputs": [
    {
     "data": {
      "text/plain": [
       "[10000, 3, 4, 5, 2222]"
      ]
     },
     "execution_count": 33,
     "metadata": {},
     "output_type": "execute_result"
    }
   ],
   "source": [
    "temp_list[2:]"
   ]
  },
  {
   "cell_type": "code",
   "execution_count": 35,
   "id": "4eb7a3af",
   "metadata": {},
   "outputs": [
    {
     "data": {
      "text/plain": [
       "[10000, 3, 4]"
      ]
     },
     "execution_count": 35,
     "metadata": {},
     "output_type": "execute_result"
    }
   ],
   "source": [
    "temp_list[2:5]"
   ]
  },
  {
   "cell_type": "code",
   "execution_count": 39,
   "id": "2c646b4d",
   "metadata": {},
   "outputs": [
    {
     "data": {
      "text/plain": [
       "[2222, 5, 4, 3, 10000, 2, 1]"
      ]
     },
     "execution_count": 39,
     "metadata": {},
     "output_type": "execute_result"
    }
   ],
   "source": [
    "temp_list[::-1]"
   ]
  },
  {
   "cell_type": "markdown",
   "id": "2dc23230",
   "metadata": {},
   "source": [
    "### Operations on lists \n",
    "**SUM**"
   ]
  },
  {
   "cell_type": "code",
   "execution_count": 41,
   "id": "4d2a4f01",
   "metadata": {},
   "outputs": [
    {
     "data": {
      "text/plain": [
       "12237"
      ]
     },
     "execution_count": 41,
     "metadata": {},
     "output_type": "execute_result"
    }
   ],
   "source": [
    "sum(temp_list)"
   ]
  },
  {
   "cell_type": "markdown",
   "id": "59119751",
   "metadata": {},
   "source": [
    "**MIN/MAX**"
   ]
  },
  {
   "cell_type": "code",
   "execution_count": 42,
   "id": "d26c2c24",
   "metadata": {},
   "outputs": [
    {
     "data": {
      "text/plain": [
       "1"
      ]
     },
     "execution_count": 42,
     "metadata": {},
     "output_type": "execute_result"
    }
   ],
   "source": [
    "min(temp_list)"
   ]
  },
  {
   "cell_type": "code",
   "execution_count": 43,
   "id": "faa073df",
   "metadata": {},
   "outputs": [
    {
     "data": {
      "text/plain": [
       "10000"
      ]
     },
     "execution_count": 43,
     "metadata": {},
     "output_type": "execute_result"
    }
   ],
   "source": [
    "max(temp_list)"
   ]
  },
  {
   "cell_type": "markdown",
   "id": "d179da65",
   "metadata": {},
   "source": [
    "**ALL/ANY**"
   ]
  },
  {
   "cell_type": "code",
   "execution_count": 44,
   "id": "fd1cf99a",
   "metadata": {},
   "outputs": [
    {
     "data": {
      "text/plain": [
       "True"
      ]
     },
     "execution_count": 44,
     "metadata": {},
     "output_type": "execute_result"
    }
   ],
   "source": [
    "all(temp_list)"
   ]
  },
  {
   "cell_type": "code",
   "execution_count": 46,
   "id": "497f7d78",
   "metadata": {},
   "outputs": [
    {
     "data": {
      "text/plain": [
       "False"
      ]
     },
     "execution_count": 46,
     "metadata": {},
     "output_type": "execute_result"
    }
   ],
   "source": [
    "temp_list[2] = 0\n",
    "all(temp_list)"
   ]
  },
  {
   "cell_type": "code",
   "execution_count": 47,
   "id": "09579407",
   "metadata": {},
   "outputs": [
    {
     "data": {
      "text/plain": [
       "True"
      ]
     },
     "execution_count": 47,
     "metadata": {},
     "output_type": "execute_result"
    }
   ],
   "source": [
    "any(temp_list)"
   ]
  },
  {
   "cell_type": "markdown",
   "id": "7d812535",
   "metadata": {},
   "source": [
    "Membership test (`in`, `not in`).\n",
    "\n",
    "```python\n",
    "'Elwood' in names       # True\n",
    "'Britney' not in names  # True\n",
    "```\n"
   ]
  },
  {
   "cell_type": "markdown",
   "id": "576a82cf",
   "metadata": {},
   "source": [
    "### Exercise\n",
    "Convert your tuple with your infromation to list, and print waht is the type of your variable\n"
   ]
  },
  {
   "cell_type": "code",
   "execution_count": 48,
   "id": "caa9ca96",
   "metadata": {},
   "outputs": [],
   "source": [
    "# TODO"
   ]
  },
  {
   "cell_type": "markdown",
   "id": "a71fc0b8",
   "metadata": {},
   "source": [
    "Add new information to your list (day, month, year) of your birthday, and calculated before value of your BMI "
   ]
  },
  {
   "cell_type": "code",
   "execution_count": 49,
   "id": "15a3664d",
   "metadata": {},
   "outputs": [],
   "source": [
    "# TODO"
   ]
  },
  {
   "cell_type": "markdown",
   "id": "0c5b4df6",
   "metadata": {},
   "source": [
    "Check len,max,min of your list "
   ]
  },
  {
   "cell_type": "code",
   "execution_count": 52,
   "id": "d7521be0",
   "metadata": {
    "scrolled": true
   },
   "outputs": [],
   "source": [
    "# TODO\n"
   ]
  },
  {
   "cell_type": "markdown",
   "id": "e8849da2",
   "metadata": {},
   "source": [
    "I hope you've had this error:\n",
    "```python\n",
    "\n",
    "Traceback (most recent call last):\n",
    "TypeError: '<' not supported between instances of 'int' and 'str'\n",
    "\n",
    "```\n",
    "If yes split your information to two lists, where one list will contains only string values, and the second one will return only numeric values"
   ]
  },
  {
   "cell_type": "code",
   "execution_count": null,
   "id": "1ce64b93",
   "metadata": {},
   "outputs": [],
   "source": [
    "# TODO"
   ]
  },
  {
   "cell_type": "markdown",
   "id": "71d75c94",
   "metadata": {},
   "source": [
    "Now len,max,min of your lists "
   ]
  },
  {
   "cell_type": "code",
   "execution_count": 56,
   "id": "89293f60",
   "metadata": {},
   "outputs": [],
   "source": [
    "# TODO"
   ]
  },
  {
   "cell_type": "markdown",
   "id": "6eaacbca",
   "metadata": {},
   "source": [
    "Sort lists with ascending order."
   ]
  },
  {
   "cell_type": "code",
   "execution_count": 56,
   "id": "6f869b65",
   "metadata": {},
   "outputs": [],
   "source": [
    "# TODO"
   ]
  },
  {
   "cell_type": "markdown",
   "id": "a36d28dd",
   "metadata": {},
   "source": [
    "In this exercise, we experiment with Python's list datatype. In the last section,\n",
    "you worked with strings containing stock symbols.\n",
    "\n",
    "```python\n",
    ">>> symbols = 'HPQ,AAPL,IBM,MSFT,YHOO,DOA,GOOG'\n",
    "```\n",
    "\n",
    "Split it into a list of names using the `split()` operation of strings:"
   ]
  },
  {
   "cell_type": "code",
   "execution_count": 2,
   "id": "32659d2f",
   "metadata": {},
   "outputs": [],
   "source": [
    "#TODO"
   ]
  },
  {
   "cell_type": "markdown",
   "id": "af37a939",
   "metadata": {},
   "source": [
    "Looping over list items"
   ]
  },
  {
   "cell_type": "markdown",
   "id": "df44009a",
   "metadata": {},
   "source": [
    "The `for` loop works by looping over data in a sequence such as a list.\n",
    "Check this out by typing the following loop and watching what happens:\n",
    "\n",
    "```python\n",
    ">>> for s in your_list:\n",
    "        print('s =', s)\n",
    "# Look at the output\n",
    "```"
   ]
  },
  {
   "cell_type": "code",
   "execution_count": null,
   "id": "641c206e",
   "metadata": {},
   "outputs": [],
   "source": [
    "# TODO\n"
   ]
  },
  {
   "cell_type": "markdown",
   "id": "a2b74efb",
   "metadata": {},
   "source": [
    "Membership tests\n",
    "\n",
    "Use the `in` or `not in` operator to check if `'AIG'`,`'AA'`, and `'CAT'` are in the list of symbols.\n"
   ]
  },
  {
   "cell_type": "code",
   "execution_count": 4,
   "id": "212c7b6f",
   "metadata": {},
   "outputs": [],
   "source": [
    "symbols = 'HPQ,AAPL,IBM,MSFT,YHOO,DOA,GOOG'\n",
    "#TODO"
   ]
  },
  {
   "cell_type": "markdown",
   "id": "9a055158",
   "metadata": {},
   "source": [
    "### Dictionaries\n",
    "\n",
    "A dictionary is mapping of keys to values.  It's also sometimes called a hash table or\n",
    "associative array.  The keys serve as indices for accessing values.\n"
   ]
  },
  {
   "cell_type": "code",
   "execution_count": 3,
   "id": "bacb20b4",
   "metadata": {},
   "outputs": [],
   "source": [
    "s = {\n",
    "    'name': 'GOOG',\n",
    "    'shares': 100,\n",
    "    'price': 490.1\n",
    "}"
   ]
  },
  {
   "cell_type": "markdown",
   "id": "009fda27",
   "metadata": {},
   "source": [
    "### Common operations\n",
    "\n",
    "To get values from a dictionary use the key names.\n",
    "\n",
    "```python\n",
    ">>> print(s['name'], s['shares'])\n",
    "GOOG 100\n",
    ">>> s['price']\n",
    "490.10\n",
    ">>>\n",
    "```\n",
    "\n",
    "To add or modify values assign using the key names.\n",
    "\n",
    "```python\n",
    ">>> s['shares'] = 75\n",
    ">>> s['date'] = '6/6/2007'\n",
    ">>>\n",
    "```\n",
    "\n",
    "To delete a value use the `del` statement.\n",
    "\n",
    "```python\n",
    ">>> del s['date']\n",
    ">>>\n",
    "```"
   ]
  },
  {
   "cell_type": "markdown",
   "id": "50fc91a9",
   "metadata": {},
   "source": [
    "### Why dictionaries?\n",
    "\n",
    "Dictionaries are useful when there are *many* different values and those values\n",
    "might be modified or manipulated.  Dictionaries make your code more readable.\n"
   ]
  },
  {
   "cell_type": "code",
   "execution_count": 26,
   "id": "fb7dbcbf",
   "metadata": {},
   "outputs": [
    {
     "ename": "KeyError",
     "evalue": "2",
     "output_type": "error",
     "traceback": [
      "\u001b[1;31m---------------------------------------------------------------------------\u001b[0m",
      "\u001b[1;31mKeyError\u001b[0m                                  Traceback (most recent call last)",
      "Input \u001b[1;32mIn [26]\u001b[0m, in \u001b[0;36m<cell line: 3>\u001b[1;34m()\u001b[0m\n\u001b[0;32m      1\u001b[0m s[\u001b[38;5;124m'\u001b[39m\u001b[38;5;124mprice\u001b[39m\u001b[38;5;124m'\u001b[39m]\n\u001b[0;32m      2\u001b[0m \u001b[38;5;66;03m# vs\u001b[39;00m\n\u001b[1;32m----> 3\u001b[0m \u001b[43ms\u001b[49m\u001b[43m[\u001b[49m\u001b[38;5;241;43m2\u001b[39;49m\u001b[43m]\u001b[49m\n",
      "\u001b[1;31mKeyError\u001b[0m: 2"
     ]
    }
   ],
   "source": [
    "s['price']\n",
    "# vs\n",
    "s[2]"
   ]
  },
  {
   "cell_type": "markdown",
   "id": "8e3c1c86",
   "metadata": {},
   "source": [
    "### Exercise\n",
    "Create dict with your information:"
   ]
  },
  {
   "cell_type": "code",
   "execution_count": 62,
   "id": "80d6496c",
   "metadata": {},
   "outputs": [],
   "source": [
    "# TODO"
   ]
  },
  {
   "cell_type": "markdown",
   "id": "3d3c3320",
   "metadata": {},
   "source": [
    "Create dict with similar information about your pet (name,age,weight,type). If you don't have any pet, make up your own.\n"
   ]
  },
  {
   "cell_type": "code",
   "execution_count": 63,
   "id": "d8be827b",
   "metadata": {},
   "outputs": [],
   "source": [
    "# TODO\n"
   ]
  },
  {
   "cell_type": "markdown",
   "id": "413ffe03",
   "metadata": {},
   "source": [
    "Add your pet dict to your dict with key 'pet'."
   ]
  },
  {
   "cell_type": "code",
   "execution_count": 63,
   "id": "d81b708b",
   "metadata": {},
   "outputs": [],
   "source": [
    "# TODO\n"
   ]
  },
  {
   "cell_type": "markdown",
   "id": "388de235",
   "metadata": {},
   "source": [
    "Print all keys of your dict:"
   ]
  },
  {
   "cell_type": "code",
   "execution_count": null,
   "id": "12edb582",
   "metadata": {},
   "outputs": [],
   "source": [
    "# TODO\n"
   ]
  },
  {
   "cell_type": "markdown",
   "id": "39775fa6",
   "metadata": {},
   "source": [
    "Print all values of your dict:"
   ]
  },
  {
   "cell_type": "code",
   "execution_count": 64,
   "id": "628366b6",
   "metadata": {},
   "outputs": [],
   "source": [
    "# TODO"
   ]
  }
 ],
 "metadata": {
  "kernelspec": {
   "display_name": "academy_venv",
   "language": "python",
   "name": "academy_venv"
  },
  "language_info": {
   "codemirror_mode": {
    "name": "ipython",
    "version": 3
   },
   "file_extension": ".py",
   "mimetype": "text/x-python",
   "name": "python",
   "nbconvert_exporter": "python",
   "pygments_lexer": "ipython3",
   "version": "3.8.0"
  }
 },
 "nbformat": 4,
 "nbformat_minor": 5
}
