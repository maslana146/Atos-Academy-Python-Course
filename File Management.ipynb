{
 "cells": [
  {
   "cell_type": "markdown",
   "id": "4da2a362",
   "metadata": {},
   "source": [
    "# File Management\n",
    "\n",
    "Most programs need to read input from somewhere. This section discusses file access.\n",
    "\n",
    "### File Input and Output\n",
    "\n",
    "Open a file.\n",
    "\n",
    "```python\n",
    "f = open('foo.txt', 'rt')     # Open for reading (text)\n",
    "g = open('bar.txt', 'wt')     # Open for writing (text)\n",
    "```\n"
   ]
  },
  {
   "cell_type": "markdown",
   "id": "84bc6ae7",
   "metadata": {},
   "source": [
    "Read all of the data.\n",
    "\n",
    "```python\n",
    "data = f.read()\n",
    "\n",
    "# Read only up to 'maxbytes' bytes\n",
    "data = f.read([maxbytes])\n",
    "```\n",
    "\n",
    "Write some text.\n",
    "\n",
    "```python\n",
    "g.write('some text')\n",
    "```\n",
    "\n",
    "Close when you are done.\n",
    "\n",
    "```python\n",
    "f.close()\n",
    "g.close()\n",
    "```"
   ]
  },
  {
   "cell_type": "markdown",
   "id": "54234e0d",
   "metadata": {},
   "source": [
    "Files should be properly closed and it's an easy step to forget.\n",
    "Thus, the preferred approach is to use the `with` statement like this.\n",
    "\n",
    "```python\n",
    "with open(filename, 'rt') as file:\n",
    "    # Use the file `file`\n",
    "    ...\n",
    "    # No need to close explicitly\n",
    "...statements\n",
    "```\n",
    "\n",
    "This automatically closes the file when control leaves the indented code block."
   ]
  },
  {
   "cell_type": "markdown",
   "id": "80eacf1c",
   "metadata": {},
   "source": [
    "### Common Idioms for Reading File Data\n",
    "\n",
    "Read an entire file all at once as a string.\n",
    "\n",
    "```python\n",
    "with open('foo.txt', 'rt') as file:\n",
    "    data = file.read()\n",
    "    # `data` is a string with all the text in `foo.txt`\n",
    "```\n",
    "\n",
    "Read a file line-by-line by iterating.\n",
    "\n",
    "```python\n",
    "with open(filename, 'rt') as file:\n",
    "    for line in file:\n",
    "        # Process the line\n",
    "```\n",
    "\n",
    "### Common Idioms for Writing to a File\n",
    "\n",
    "Write string data.\n",
    "\n",
    "```python\n",
    "with open('outfile', 'wt') as out:\n",
    "    out.write('Hello World\\n')\n",
    "    ...\n",
    "```\n",
    "\n",
    "Redirect the print function.\n",
    "\n",
    "```python\n",
    "with open('outfile', 'wt') as out:\n",
    "    print('Hello World', file=out)\n",
    "    ...\n",
    "```"
   ]
  },
  {
   "cell_type": "markdown",
   "id": "17bc2ab2",
   "metadata": {},
   "source": [
    "## Exercises\n",
    "Create a function that will create a text file with the given name and write the given string to it."
   ]
  },
  {
   "cell_type": "code",
   "execution_count": 1,
   "id": "2a58706f",
   "metadata": {},
   "outputs": [],
   "source": [
    "#TODO"
   ]
  },
  {
   "cell_type": "markdown",
   "id": "78dfc407",
   "metadata": {},
   "source": [
    "Open file `data/sample.txt` and print all lines in loop"
   ]
  },
  {
   "cell_type": "code",
   "execution_count": 2,
   "id": "8c135096",
   "metadata": {},
   "outputs": [],
   "source": [
    "#TODO"
   ]
  },
  {
   "cell_type": "markdown",
   "id": "39db3379",
   "metadata": {},
   "source": [
    "In this task You have to open the same file, but this time print print line without vovels."
   ]
  },
  {
   "cell_type": "code",
   "execution_count": 3,
   "id": "507e145c",
   "metadata": {},
   "outputs": [],
   "source": [
    "#TODO"
   ]
  },
  {
   "cell_type": "markdown",
   "id": "ac5a85df",
   "metadata": {},
   "source": [
    "This time try to update the given file with loaded but text will be in uppercase."
   ]
  },
  {
   "cell_type": "code",
   "execution_count": 3,
   "id": "4e078db7",
   "metadata": {},
   "outputs": [],
   "source": [
    "#TODO"
   ]
  }
 ],
 "metadata": {
  "kernelspec": {
   "display_name": "academy_venv",
   "language": "python",
   "name": "academy_venv"
  },
  "language_info": {
   "codemirror_mode": {
    "name": "ipython",
    "version": 3
   },
   "file_extension": ".py",
   "mimetype": "text/x-python",
   "name": "python",
   "nbconvert_exporter": "python",
   "pygments_lexer": "ipython3",
   "version": "3.8.0"
  }
 },
 "nbformat": 4,
 "nbformat_minor": 5
}
