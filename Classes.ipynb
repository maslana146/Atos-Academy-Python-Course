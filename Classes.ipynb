{
 "cells": [
  {
   "cell_type": "markdown",
   "id": "217d6408",
   "metadata": {},
   "source": [
    "# Classes\n",
    "\n",
    "This section introduces the class statement and the idea of creating new objects.\n",
    "\n",
    "### Object Oriented (OO) programming\n",
    "\n",
    "A Programming technique where code is organized as a collection of\n",
    "*objects*.\n",
    "\n",
    "An *object* consists of:\n",
    "\n",
    "* Data. Attributes\n",
    "* Behavior. Methods which are functions applied to the object.\n",
    "\n",
    "You have already been using some OO during this course.\n",
    "\n",
    "For example, manipulating a list.\n",
    "\n",
    "```python\n",
    ">>> nums = [1, 2, 3]\n",
    ">>> nums.append(4)      # Method\n",
    ">>> nums.insert(1,10)   # Method\n",
    ">>> nums\n",
    "[1, 10, 2, 3, 4]        # Data\n",
    ">>>\n",
    "```\n",
    "\n",
    "`nums` is an *instance* of a list.\n",
    "\n",
    "Methods (`append()` and `insert()`) are attached to the instance (`nums`)."
   ]
  },
  {
   "cell_type": "markdown",
   "id": "16831382",
   "metadata": {},
   "source": [
    "### The `class` statement\n",
    "\n",
    "Use the `class` statement to define a new object.\n",
    "\n",
    "```python\n",
    "class Player:\n",
    "    def __init__(self, x, y):\n",
    "        self.x = x\n",
    "        self.y = y\n",
    "        self.health = 100\n",
    "\n",
    "    def move(self, dx, dy):\n",
    "        self.x += dx\n",
    "        self.y += dy\n",
    "\n",
    "    def damage(self, pts):\n",
    "        self.health -= pts\n",
    "```\n",
    "\n",
    "In a nutshell, a class is a set of functions that carry out various operations on so-called *instances*.\n"
   ]
  },
  {
   "cell_type": "markdown",
   "id": "cea75d0d",
   "metadata": {},
   "source": [
    "### Instances\n",
    "\n",
    "Instances are the actual *objects* that you manipulate in your program.\n",
    "\n",
    "They are created by calling the class as a function.\n",
    "\n",
    "```python\n",
    ">>> a = Player(2, 3)\n",
    ">>> b = Player(10, 20)\n",
    ">>>\n",
    "```\n",
    "\n",
    "`a` and `b` are instances of `Player`.\n",
    "\n",
    "*Emphasize: The class statement is just the definition (it does\n",
    " nothing by itself). Similar to a function definition.*\n",
    "\n",
    "### Instance Data\n",
    "\n",
    "Each instance has its own local data.\n",
    "\n",
    "```python\n",
    ">>> a.x\n",
    "2\n",
    ">>> b.x\n",
    "10\n",
    "```\n",
    "\n",
    "This data is initialized by the `__init__()`.\n",
    "\n",
    "```python\n",
    "class Player:\n",
    "    def __init__(self, x, y):\n",
    "        # Any value stored on `self` is instance data\n",
    "        self.x = x\n",
    "        self.y = y\n",
    "        self.health = 100\n",
    "```\n",
    "\n",
    "There are no restrictions on the total number or type of attributes stored."
   ]
  },
  {
   "cell_type": "markdown",
   "id": "ea3544b0",
   "metadata": {},
   "source": [
    "### Instance Methods\n",
    "\n",
    "Instance methods are functions applied to instances of an object.\n",
    "\n",
    "```python\n",
    "class Player:\n",
    "    ...\n",
    "    # `move` is a method\n",
    "    def move(self, dx, dy):\n",
    "        self.x += dx\n",
    "        self.y += dy\n",
    "```\n",
    "\n",
    "The object itself is always passed as first argument.\n",
    "\n",
    "```python\n",
    ">>> a.move(1, 2)\n",
    "\n",
    "# matches `a` to `self`\n",
    "# matches `1` to `dx`\n",
    "# matches `2` to `dy`\n",
    "def move(self, dx, dy):\n",
    "```\n",
    "\n",
    "By convention, the instance is called `self`. However, the actual name\n",
    "used is unimportant. The object is always passed as the first\n",
    "argument. It is merely Python programming style to call this argument\n",
    "`self`."
   ]
  },
  {
   "cell_type": "markdown",
   "id": "9eea6475",
   "metadata": {},
   "source": [
    "### Class Scoping\n",
    "\n",
    "Classes do not define a scope of names.\n",
    "\n",
    "```python\n",
    "class Player:\n",
    "    ...\n",
    "    def move(self, dx, dy):\n",
    "        self.x += dx\n",
    "        self.y += dy\n",
    "\n",
    "    def left(self, amt):\n",
    "        move(-amt, 0)       # NO. Calls a global `move` function\n",
    "        self.move(-amt, 0)  # YES. Calls method `move` from above.\n",
    "```\n",
    "\n",
    "If you want to operate on an instance, you always refer to it explicitly (e.g., `self`).\n"
   ]
  },
  {
   "cell_type": "markdown",
   "id": "ba524c14",
   "metadata": {},
   "source": [
    "#  Inheritance\n",
    "\n",
    "Inheritance is a commonly used tool for writing extensible programs.\n",
    "This section explores that idea.\n",
    "\n",
    "### Introduction\n",
    "\n",
    "Inheritance is used to specialize existing objects:\n",
    "\n",
    "```python\n",
    "class Parent:\n",
    "    ...\n",
    "\n",
    "class Child(Parent):\n",
    "    ...\n",
    "```\n",
    "\n",
    "The new class `Child` is called a derived class or subclass.  The\n",
    "`Parent` class is known as base class or superclass.  `Parent` is\n",
    "specified in `()` after the class name, `class Child(Parent):`.\n"
   ]
  },
  {
   "cell_type": "markdown",
   "id": "79c145df",
   "metadata": {},
   "source": [
    "### Extending\n",
    "\n",
    "With inheritance, you are taking an existing class and:\n",
    "\n",
    "* Adding new methods\n",
    "* Redefining some of the existing methods\n",
    "* Adding new attributes to instances\n",
    "\n",
    "In the end you are **extending existing code**.\n",
    "\n",
    "### Example\n",
    "\n",
    "Suppose that this is your starting class:\n",
    "\n",
    "```python\n",
    "class Stock:\n",
    "    def __init__(self, name, shares, price):\n",
    "        self.name = name\n",
    "        self.shares = shares\n",
    "        self.price = price\n",
    "\n",
    "    def cost(self):\n",
    "        return self.shares * self.price\n",
    "\n",
    "    def sell(self, nshares):\n",
    "        self.shares -= nshares\n",
    "```\n",
    "\n",
    "You can change any part of this via inheritance.\n"
   ]
  },
  {
   "cell_type": "markdown",
   "id": "0f432d2b",
   "metadata": {},
   "source": [
    "### Add a new method\n",
    "\n",
    "```python\n",
    "class MyStock(Stock):\n",
    "    def panic(self):\n",
    "        self.sell(self.shares)\n",
    "```\n",
    "\n",
    "Usage example.\n",
    "\n",
    "```python\n",
    ">>> s = MyStock('GOOG', 100, 490.1)\n",
    ">>> s.sell(25)\n",
    ">>> s.shares\n",
    "75\n",
    ">>> s.panic()\n",
    ">>> s.shares\n",
    "0\n",
    ">>>\n",
    "```\n"
   ]
  },
  {
   "cell_type": "markdown",
   "id": "0521ebee",
   "metadata": {},
   "source": [
    "### Redefining an existing method\n",
    "\n",
    "```python\n",
    "class MyStock(Stock):\n",
    "    def cost(self):\n",
    "        return 1.25 * self.shares * self.price\n",
    "```\n",
    "\n",
    "Usage example.\n",
    "\n",
    "```python\n",
    ">>> s = MyStock('GOOG', 100, 490.1)\n",
    ">>> s.cost()\n",
    "61262.5\n",
    ">>>\n",
    "```\n",
    "\n",
    "The new method takes the place of the old one. The other methods are unaffected. It's tremendous.\n"
   ]
  },
  {
   "cell_type": "markdown",
   "id": "2da1eeb5",
   "metadata": {},
   "source": [
    "## Overriding\n",
    "\n",
    "Sometimes a class extends an existing method, but it wants to use the\n",
    "original implementation inside the redefinition.  For this, use `super()`:\n",
    "\n",
    "```python\n",
    "class Stock:\n",
    "    ...\n",
    "    def cost(self):\n",
    "        return self.shares * self.price\n",
    "    ...\n",
    "\n",
    "class MyStock(Stock):\n",
    "    def cost(self):\n",
    "        # Check the call to `super`\n",
    "        actual_cost = super().cost()\n",
    "        return 1.25 * actual_cost\n",
    "```\n",
    "\n",
    "Use `super()` to call the previous version.\n",
    "\n",
    "*Caution: In Python 2, the syntax was more verbose.*\n",
    "\n",
    "```python\n",
    "actual_cost = super(MyStock, self).cost()\n",
    "```"
   ]
  },
  {
   "cell_type": "markdown",
   "id": "9e7ac0d5",
   "metadata": {},
   "source": [
    "### `__init__` and inheritance\n",
    "\n",
    "If `__init__` is redefined, it is essential to initialize the parent.\n",
    "\n",
    "```python\n",
    "class Stock:\n",
    "    def __init__(self, name, shares, price):\n",
    "        self.name = name\n",
    "        self.shares = shares\n",
    "        self.price = price\n",
    "\n",
    "class MyStock(Stock):\n",
    "    def __init__(self, name, shares, price, factor):\n",
    "        # Check the call to `super` and `__init__`\n",
    "        super().__init__(name, shares, price)\n",
    "        self.factor = factor\n",
    "\n",
    "    def cost(self):\n",
    "        return self.factor * super().cost()\n",
    "```\n",
    "\n",
    "You should call the `__init__()` method on the `super` which is the\n",
    "way to call the previous version as shown previously.\n"
   ]
  },
  {
   "cell_type": "markdown",
   "id": "ee9f5f42",
   "metadata": {},
   "source": [
    "### Using Inheritance\n",
    "\n",
    "Inheritance is sometimes used to organize related objects.\n",
    "\n",
    "```python\n",
    "class Shape:\n",
    "    ...\n",
    "\n",
    "class Circle(Shape):\n",
    "    ...\n",
    "\n",
    "class Rectangle(Shape):\n",
    "    ...\n",
    "```\n",
    "\n",
    "Think of a logical hierarchy or taxonomy.  However, a more common (and\n",
    "practical) usage is related to making reusable or extensible code.\n",
    "For example, a framework might define a base class and instruct you\n",
    "to customize it.\n",
    "\n",
    "```python\n",
    "class CustomHandler(TCPHandler):\n",
    "    def handle_request(self):\n",
    "        ...\n",
    "        # Custom processing\n",
    "```\n",
    "\n",
    "The base class contains some general purpose code.\n",
    "Your class inherits and customized specific parts.\n"
   ]
  },
  {
   "cell_type": "markdown",
   "id": "8e624057",
   "metadata": {},
   "source": [
    "### \"is a\" relationship\n",
    "\n",
    "Inheritance establishes a type relationship.\n",
    "\n",
    "```python\n",
    "class Shape:\n",
    "    ...\n",
    "\n",
    "class Circle(Shape):\n",
    "    ...\n",
    "```\n",
    "\n",
    "Check for object instance.\n",
    "\n",
    "```python\n",
    ">>> c = Circle(4.0)\n",
    ">>> isinstance(c, Shape)\n",
    "True\n",
    ">>>\n",
    "```"
   ]
  },
  {
   "cell_type": "markdown",
   "id": "6f338589",
   "metadata": {},
   "source": [
    "### Multiple Inheritance\n",
    "\n",
    "You can inherit from multiple classes by specifying them in the definition of the class.\n",
    "\n",
    "```python\n",
    "class Mother:\n",
    "    ...\n",
    "\n",
    "class Father:\n",
    "    ...\n",
    "\n",
    "class Child(Mother, Father):\n",
    "    ...\n",
    "```\n",
    "\n",
    "The class `Child` inherits features from both parents.  There are some\n",
    "rather tricky details. Don't do it unless you know what you are doing.\n",
    "Some further information will be given in the next section, but we're not\n",
    "going to utilize multiple inheritance further in this course."
   ]
  },
  {
   "cell_type": "markdown",
   "id": "aad4ad2d",
   "metadata": {},
   "source": [
    "## Exercises\n",
    "![title](images/batman_superman.jpg)"
   ]
  },
  {
   "cell_type": "markdown",
   "id": "04b43914",
   "metadata": {},
   "source": [
    "Create your own calss of Hero of any service, class should contains: \n",
    "- name\n",
    "- demage\n",
    "- health \n",
    "- mana \n",
    "- money"
   ]
  },
  {
   "cell_type": "code",
   "execution_count": 2,
   "id": "55af6da2",
   "metadata": {},
   "outputs": [],
   "source": [
    "#TODO"
   ]
  },
  {
   "cell_type": "markdown",
   "id": "0fba4153",
   "metadata": {},
   "source": [
    "Now create 2 or 3 instances of your Hero"
   ]
  },
  {
   "cell_type": "code",
   "execution_count": 3,
   "id": "845beb3f",
   "metadata": {},
   "outputs": [],
   "source": [
    "#TODO"
   ]
  },
  {
   "cell_type": "markdown",
   "id": "32ffd179",
   "metadata": {},
   "source": [
    "Write some methods like:\n",
    " - `rest` which will increase value of mana by 20 points\n",
    " - `atack` which will decrease value of health of other hero by 20 points\n",
    " - `rob` which will decrease value of money of other hero to 0 and increase value of your money"
   ]
  },
  {
   "cell_type": "code",
   "execution_count": 15,
   "id": "c25ba028",
   "metadata": {},
   "outputs": [],
   "source": [
    "#TODO"
   ]
  },
  {
   "cell_type": "markdown",
   "id": "8ab6c759",
   "metadata": {},
   "source": [
    "Play with new methods and trigger them on hero instances"
   ]
  },
  {
   "cell_type": "code",
   "execution_count": 16,
   "id": "962ce2a1",
   "metadata": {},
   "outputs": [],
   "source": [
    "#TODO"
   ]
  },
  {
   "cell_type": "markdown",
   "id": "7578a3ac",
   "metadata": {},
   "source": [
    "Now new classes e.g. (Batman,Superman) inheriting from the hero class, with new unique skills (methods)"
   ]
  },
  {
   "cell_type": "code",
   "execution_count": 17,
   "id": "e4ea1d26",
   "metadata": {},
   "outputs": [],
   "source": [
    "#TODO"
   ]
  }
 ],
 "metadata": {
  "kernelspec": {
   "display_name": "academy_venv",
   "language": "python",
   "name": "academy_venv"
  },
  "language_info": {
   "codemirror_mode": {
    "name": "ipython",
    "version": 3
   },
   "file_extension": ".py",
   "mimetype": "text/x-python",
   "name": "python",
   "nbconvert_exporter": "python",
   "pygments_lexer": "ipython3",
   "version": "3.8.0"
  }
 },
 "nbformat": 4,
 "nbformat_minor": 5
}
