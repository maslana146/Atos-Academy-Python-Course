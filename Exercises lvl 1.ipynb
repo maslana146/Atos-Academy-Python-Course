{
 "cells": [
  {
   "cell_type": "code",
   "execution_count": 16,
   "id": "0a810085",
   "metadata": {},
   "outputs": [],
   "source": [
    "from typing import *"
   ]
  },
  {
   "cell_type": "markdown",
   "id": "c5987b6b",
   "metadata": {},
   "source": [
    "### Task1\n",
    "In this task, you have to check if all the numbers in list given in the input are the same.\n",
    "\n",
    "Input format: list of any objects. eg.:\n",
    " - [1,2,3,4] \n",
    " - ['red','blue']\n",
    " - [True]"
   ]
  },
  {
   "cell_type": "code",
   "execution_count": 9,
   "id": "66537cda",
   "metadata": {},
   "outputs": [],
   "source": [
    "def is_the_same(input_list: List[any]):\n",
    "    raise NotImplementedError"
   ]
  },
  {
   "cell_type": "code",
   "execution_count": 10,
   "id": "4a26e9d1",
   "metadata": {},
   "outputs": [
    {
     "ename": "NotImplementedError",
     "evalue": "",
     "output_type": "error",
     "traceback": [
      "\u001b[1;31m---------------------------------------------------------------------------\u001b[0m",
      "\u001b[1;31mNotImplementedError\u001b[0m                       Traceback (most recent call last)",
      "Input \u001b[1;32mIn [10]\u001b[0m, in \u001b[0;36m<cell line: 1>\u001b[1;34m()\u001b[0m\n\u001b[1;32m----> 1\u001b[0m \u001b[38;5;28;01massert\u001b[39;00m \u001b[43mis_the_same\u001b[49m\u001b[43m(\u001b[49m\u001b[43m[\u001b[49m\u001b[38;5;241;43m1\u001b[39;49m\u001b[43m,\u001b[49m\u001b[38;5;241;43m1\u001b[39;49m\u001b[43m,\u001b[49m\u001b[38;5;241;43m1\u001b[39;49m\u001b[43m]\u001b[49m\u001b[43m)\u001b[49m \u001b[38;5;241m==\u001b[39m \u001b[38;5;28;01mTrue\u001b[39;00m\n\u001b[0;32m      2\u001b[0m \u001b[38;5;28;01massert\u001b[39;00m is_the_same([\u001b[38;5;241m1\u001b[39m,\u001b[38;5;241m2\u001b[39m,\u001b[38;5;241m1\u001b[39m]) \u001b[38;5;241m==\u001b[39m \u001b[38;5;28;01mFalse\u001b[39;00m\n\u001b[0;32m      3\u001b[0m \u001b[38;5;28;01massert\u001b[39;00m is_the_same([\u001b[38;5;28;01mTrue\u001b[39;00m]) \u001b[38;5;241m==\u001b[39m \u001b[38;5;28;01mTrue\u001b[39;00m\n",
      "Input \u001b[1;32mIn [9]\u001b[0m, in \u001b[0;36mis_the_same\u001b[1;34m(input_list)\u001b[0m\n\u001b[0;32m      1\u001b[0m \u001b[38;5;28;01mdef\u001b[39;00m \u001b[38;5;21mis_the_same\u001b[39m(input_list: List[\u001b[38;5;28many\u001b[39m]):\n\u001b[1;32m----> 2\u001b[0m     \u001b[38;5;28;01mraise\u001b[39;00m \u001b[38;5;167;01mNotImplementedError\u001b[39;00m\n",
      "\u001b[1;31mNotImplementedError\u001b[0m: "
     ]
    }
   ],
   "source": [
    "assert is_the_same([1,1,1]) == True\n",
    "assert is_the_same([1,2,1]) == False\n",
    "assert is_the_same([True]) == True\n",
    "assert is_the_same(['blue','blue']) == True\n",
    "assert is_the_same([2,'red']) == False"
   ]
  },
  {
   "cell_type": "markdown",
   "id": "252558d9",
   "metadata": {},
   "source": [
    "### Task2\n",
    "In this task, you have to return Woo[...]oow, where '[...]' is a multiple of 'o'.\n",
    "\n",
    "Input format: int number. eg.:\n",
    " - 1 output: Wow \n",
    " - 10 output: Woooooooooow\n",
    " - 2 output: Woow"
   ]
  },
  {
   "cell_type": "code",
   "execution_count": 19,
   "id": "62e8136e",
   "metadata": {},
   "outputs": [],
   "source": [
    "def wow(number: int):\n",
    "    raise NotImplementedError"
   ]
  },
  {
   "cell_type": "code",
   "execution_count": 14,
   "id": "beb287f8",
   "metadata": {},
   "outputs": [
    {
     "ename": "NameError",
     "evalue": "name 'wow' is not defined",
     "output_type": "error",
     "traceback": [
      "\u001b[1;31m---------------------------------------------------------------------------\u001b[0m",
      "\u001b[1;31mNameError\u001b[0m                                 Traceback (most recent call last)",
      "Input \u001b[1;32mIn [14]\u001b[0m, in \u001b[0;36m<cell line: 1>\u001b[1;34m()\u001b[0m\n\u001b[1;32m----> 1\u001b[0m \u001b[38;5;28;01massert\u001b[39;00m \u001b[43mwow\u001b[49m(\u001b[38;5;241m1\u001b[39m) \u001b[38;5;241m==\u001b[39m \u001b[38;5;124m'\u001b[39m\u001b[38;5;124mWow\u001b[39m\u001b[38;5;124m'\u001b[39m\n\u001b[0;32m      2\u001b[0m \u001b[38;5;28;01massert\u001b[39;00m wow(\u001b[38;5;241m4\u001b[39m) \u001b[38;5;241m==\u001b[39m \u001b[38;5;124m'\u001b[39m\u001b[38;5;124mWoooow\u001b[39m\u001b[38;5;124m'\u001b[39m\n\u001b[0;32m      3\u001b[0m \u001b[38;5;28;01massert\u001b[39;00m wow(\u001b[38;5;241m0\u001b[39m) \u001b[38;5;241m==\u001b[39m \u001b[38;5;124m'\u001b[39m\u001b[38;5;124mWw\u001b[39m\u001b[38;5;124m'\u001b[39m\n",
      "\u001b[1;31mNameError\u001b[0m: name 'wow' is not defined"
     ]
    }
   ],
   "source": [
    "assert wow(1) == 'Wow'\n",
    "assert wow(4) == 'Woooow'\n",
    "assert wow(0) == 'Ww'"
   ]
  },
  {
   "cell_type": "markdown",
   "id": "d4394bd9",
   "metadata": {},
   "source": [
    "### Task2.1\n",
    "In this task, you have to check, whether second one (called pattern) is a substring of the first one..\n",
    "\n",
    "Input format:str, str. eg.:\n",
    " - AABB , ABB output: 'YES'\n",
    " - AAABBB, BBBAAA output: 'NO'\n",
    " - AABBABA, BBAA output: 'NO"
   ]
  },
  {
   "cell_type": "code",
   "execution_count": 65,
   "id": "4de92923",
   "metadata": {},
   "outputs": [],
   "source": [
    "def check_pattern(sentence: str, pattern: str):\n",
    "    raise NotImplementedError"
   ]
  },
  {
   "cell_type": "code",
   "execution_count": null,
   "id": "091ac07a",
   "metadata": {},
   "outputs": [],
   "source": [
    "assert check_pattern('AABBABA', 'BBAA') == 'NO'\n",
    "assert check_pattern('AAABBB','BBBAAA') == 'NO'\n",
    "assert check_pattern('AABB','ABB') == 'YES'"
   ]
  },
  {
   "cell_type": "markdown",
   "id": "817699e8",
   "metadata": {},
   "source": [
    "### Task3\n",
    "In this task, you have to return message with information which value is grater.\n",
    "\n",
    "Input format: int, int eg.:\n",
    " - 1 , 2 output: 1 is smaller than 2\n",
    " - -3, -5 output: -3  is greater than  -5\n",
    " - 0, 0 output: a is equal b:  0"
   ]
  },
  {
   "cell_type": "code",
   "execution_count": 21,
   "id": "cb8af6de",
   "metadata": {},
   "outputs": [],
   "source": [
    "def compare_two_numbers(a: int, b: int):\n",
    "    raise NotImplementedError"
   ]
  },
  {
   "cell_type": "code",
   "execution_count": 22,
   "id": "ea36d579",
   "metadata": {},
   "outputs": [
    {
     "ename": "NotImplementedError",
     "evalue": "",
     "output_type": "error",
     "traceback": [
      "\u001b[1;31m---------------------------------------------------------------------------\u001b[0m",
      "\u001b[1;31mNotImplementedError\u001b[0m                       Traceback (most recent call last)",
      "Input \u001b[1;32mIn [22]\u001b[0m, in \u001b[0;36m<cell line: 1>\u001b[1;34m()\u001b[0m\n\u001b[1;32m----> 1\u001b[0m \u001b[38;5;28;01massert\u001b[39;00m \u001b[43mcompare_two_numbers\u001b[49m\u001b[43m(\u001b[49m\u001b[38;5;241;43m2\u001b[39;49m\u001b[43m,\u001b[49m\u001b[38;5;241;43m6\u001b[39;49m\u001b[43m)\u001b[49m \u001b[38;5;241m==\u001b[39m \u001b[38;5;124m'\u001b[39m\u001b[38;5;124m2 is smaller than 6\u001b[39m\u001b[38;5;124m'\u001b[39m\n\u001b[0;32m      2\u001b[0m \u001b[38;5;28;01massert\u001b[39;00m compare_two_numbers(\u001b[38;5;241m4\u001b[39m, \u001b[38;5;241m-\u001b[39m\u001b[38;5;241m5\u001b[39m) \u001b[38;5;241m==\u001b[39m \u001b[38;5;124m'\u001b[39m\u001b[38;5;124m4 is greater than -5\u001b[39m\u001b[38;5;124m'\u001b[39m\n\u001b[0;32m      3\u001b[0m \u001b[38;5;28;01massert\u001b[39;00m compare_two_numbers(\u001b[38;5;241m100\u001b[39m,\u001b[38;5;241m100\u001b[39m) \u001b[38;5;241m==\u001b[39m \u001b[38;5;124m'\u001b[39m\u001b[38;5;124ma is equal b: 0\u001b[39m\u001b[38;5;124m'\u001b[39m\n",
      "Input \u001b[1;32mIn [21]\u001b[0m, in \u001b[0;36mcompare_two_numbers\u001b[1;34m(a, b)\u001b[0m\n\u001b[0;32m      1\u001b[0m \u001b[38;5;28;01mdef\u001b[39;00m \u001b[38;5;21mcompare_two_numbers\u001b[39m(a: \u001b[38;5;28mint\u001b[39m, b: \u001b[38;5;28mint\u001b[39m):\n\u001b[1;32m----> 2\u001b[0m     \u001b[38;5;28;01mraise\u001b[39;00m \u001b[38;5;167;01mNotImplementedError\u001b[39;00m\n",
      "\u001b[1;31mNotImplementedError\u001b[0m: "
     ]
    }
   ],
   "source": [
    "assert compare_two_numbers(2,6) == '2 is smaller than 6'\n",
    "assert compare_two_numbers(4, -5) == '4 is greater than -5'\n",
    "assert compare_two_numbers(100,100) == 'a is equal b: 0'"
   ]
  },
  {
   "cell_type": "markdown",
   "id": "5388439b",
   "metadata": {},
   "source": [
    "### Task3\n",
    "In this task, you have to return sorted list in nondecreasing order.\n",
    "\n",
    "Input format: list of int, int eg.:\n",
    " - [3, 1, 3, 2] output: [1,2,3,3]\n",
    " - [0,0,0] output: [0,0,0]\n",
    " - [10,9,8,-10,-20,-30] output: [-30,-20,-10,8,9,10]"
   ]
  },
  {
   "cell_type": "code",
   "execution_count": 23,
   "id": "53d1ee20",
   "metadata": {},
   "outputs": [],
   "source": [
    "def sort_list(input_list: List[int]):\n",
    "    raise NotImplementedError"
   ]
  },
  {
   "cell_type": "code",
   "execution_count": null,
   "id": "d8e42253",
   "metadata": {},
   "outputs": [],
   "source": [
    "assert sort_list([3, 1, 3, 2]) ==  [1,2,3,3]\n",
    "assert sort_list([0,0,0]) == [0,0,0]\n",
    "assert sort_list([10,9,8,-10,-20,-30]) ==  [-30,-20,-10,8,9,10]"
   ]
  },
  {
   "cell_type": "markdown",
   "id": "a173e0ca",
   "metadata": {},
   "source": [
    "### Task3.1\n",
    "In this task, you have to return sorted list of objects by age in nondecreasing order.\n",
    "\n",
    "Input format: list of int, int eg.:\n",
    " - [('Ania',20),('Monika',110),('Piotr',10)] output: [('Piotr',10),('Ania',20),('Monika',110)]\n",
    " - [('Ania',-10),('Monika',-110),('Piotr',210)] output: [('Monika',-110),('Ania',-10),('Piotr',210)]"
   ]
  },
  {
   "cell_type": "code",
   "execution_count": 35,
   "id": "2bf49ec4",
   "metadata": {},
   "outputs": [],
   "source": [
    "def sort_list(input_list: List[Tuple]):\n",
    "    raise NotImplementedError"
   ]
  },
  {
   "cell_type": "code",
   "execution_count": null,
   "id": "170ecd2b",
   "metadata": {},
   "outputs": [],
   "source": [
    "assert sort_list([('Ania',20),('Monika',110),('Piotr',10)]) == [('Piotr',10),('Ania',20),('Monika',110)]\n",
    "assert sort_list([('Ania',-10),('Monika',-110),('Piotr',210)]) == [('Monika',-110),('Ania',-10),('Piotr',210)]"
   ]
  },
  {
   "cell_type": "markdown",
   "id": "e50b856b",
   "metadata": {},
   "source": [
    "### Task4\n",
    "In this task, you have to return value of sum of integers of sublists that starts at index 'start' and ends at index 'end'.\n",
    "\n",
    "Input format: int, int, List[int] eg.:\n",
    " - 2, 4 , [1 2 3 4 5 6 7] output: 12\n",
    " - 1, 2, [10,11,12,10] output: 23"
   ]
  },
  {
   "cell_type": "code",
   "execution_count": null,
   "id": "249fa756",
   "metadata": {},
   "outputs": [],
   "source": [
    "def sum_sublist(start: int, end: int, input_list: List[Tuple]):\n",
    "    raise NotImplementedError"
   ]
  },
  {
   "cell_type": "code",
   "execution_count": 46,
   "id": "894e0ed4",
   "metadata": {},
   "outputs": [
    {
     "ename": "NameError",
     "evalue": "name 'sum_sublist' is not defined",
     "output_type": "error",
     "traceback": [
      "\u001b[1;31m---------------------------------------------------------------------------\u001b[0m",
      "\u001b[1;31mNameError\u001b[0m                                 Traceback (most recent call last)",
      "Input \u001b[1;32mIn [46]\u001b[0m, in \u001b[0;36m<cell line: 1>\u001b[1;34m()\u001b[0m\n\u001b[1;32m----> 1\u001b[0m \u001b[38;5;28;01massert\u001b[39;00m \u001b[43msum_sublist\u001b[49m([\u001b[38;5;241m10\u001b[39m,\u001b[38;5;241m11\u001b[39m,\u001b[38;5;241m12\u001b[39m,\u001b[38;5;241m10\u001b[39m]) \u001b[38;5;241m==\u001b[39m \u001b[38;5;241m23\u001b[39m\n\u001b[0;32m      2\u001b[0m \u001b[38;5;28;01massert\u001b[39;00m sum_sublist([\u001b[38;5;241m1\u001b[39m, \u001b[38;5;241m2\u001b[39m, \u001b[38;5;241m3\u001b[39m, \u001b[38;5;241m4\u001b[39m, \u001b[38;5;241m5\u001b[39m, \u001b[38;5;241m6\u001b[39m, \u001b[38;5;241m7\u001b[39m]) \u001b[38;5;241m==\u001b[39m \u001b[38;5;241m12\u001b[39m\n",
      "\u001b[1;31mNameError\u001b[0m: name 'sum_sublist' is not defined"
     ]
    }
   ],
   "source": [
    "assert sum_sublist([10,11,12,10]) == 23\n",
    "assert sum_sublist([1, 2, 3, 4, 5, 6, 7]) == 12"
   ]
  },
  {
   "cell_type": "markdown",
   "id": "0c506cdd",
   "metadata": {},
   "source": [
    "### Task5\n",
    "In this task, you have to return given sentence without vovels.\n",
    "\n",
    "Input format: str eg.:\n",
    " - 'This is exemplary test case.' output: 'Ths s xmplr tst cs.'\n",
    " - 'Check this out i'm programmer!' output: 'Chck ths t 'm prgrmmr!"
   ]
  },
  {
   "cell_type": "code",
   "execution_count": 47,
   "id": "7f63abb5",
   "metadata": {},
   "outputs": [],
   "source": [
    "def no_vovels(sentence: str):\n",
    "    raise NotImplementedError"
   ]
  },
  {
   "cell_type": "code",
   "execution_count": null,
   "id": "37681897",
   "metadata": {},
   "outputs": [],
   "source": [
    "assert no_vovels('This is exemplary test case.') == 'Ths s xmplr tst cs.'\n",
    "assert no_vovels(\"Check this out i'm programmer!\") == \"Chck ths t 'm prgrmmr!\""
   ]
  },
  {
   "cell_type": "markdown",
   "id": "19b66af8",
   "metadata": {},
   "source": [
    "### Task6\n",
    "In this task, you have to return random int number form the given range.\n",
    "\n",
    "Input format: int, int eg.:\n",
    " - 2, 10 output: 9\n",
    " "
   ]
  },
  {
   "cell_type": "code",
   "execution_count": 53,
   "id": "1474ee38",
   "metadata": {},
   "outputs": [],
   "source": [
    "# TODO"
   ]
  },
  {
   "cell_type": "markdown",
   "id": "b04dfdc8",
   "metadata": {},
   "source": [
    "### Task6.1\n",
    "In this task, you have to return given list with random order.\n",
    "\n",
    "Input format: list[any] eg.:\n",
    " - [1,2,3,4] output: [4,2,1,3]\n",
    " "
   ]
  },
  {
   "cell_type": "code",
   "execution_count": 54,
   "id": "c81855b2",
   "metadata": {},
   "outputs": [],
   "source": [
    "# TODO"
   ]
  },
  {
   "cell_type": "markdown",
   "id": "4a25a230",
   "metadata": {},
   "source": [
    "### Task6.2\n",
    "In this task, you have to write \"Warm/Cold\" game:.\n",
    "\n",
    "\n",
    "At the beginning the program randomly select a number in the range from 1 to 50,\n",
    "It then asks the user for a number, depending on whether the given number is less than the number selected by the program, a different message is returned."
   ]
  },
  {
   "cell_type": "code",
   "execution_count": 63,
   "id": "1d87e32b",
   "metadata": {},
   "outputs": [],
   "source": [
    "# TODO"
   ]
  },
  {
   "cell_type": "markdown",
   "id": "567a69ed",
   "metadata": {},
   "source": [
    "> Hint : input()"
   ]
  },
  {
   "cell_type": "markdown",
   "id": "5a19f264",
   "metadata": {},
   "source": [
    "### Task7\n",
    " Write a program in Python to check if a sequence is a Palindrome.\n",
    " \n",
    " eg. \n",
    " - \"oko\" is a Palidrome\n",
    " - \"potop\" is a Palidrome\n",
    " - \"kajaki\" is not a Palidrome \n",
    " "
   ]
  },
  {
   "cell_type": "code",
   "execution_count": 64,
   "id": "d558f2a1",
   "metadata": {},
   "outputs": [],
   "source": [
    "# TODO"
   ]
  },
  {
   "cell_type": "markdown",
   "id": "13fc206b",
   "metadata": {},
   "source": [
    "### Task7\n",
    "Write a function that will open a given txt file, and then return information about how many words, vowels, and spaces it has. The result is to be saved as a dict.\n",
    "\n",
    "Example output:\n",
    "```\n",
    "{\n",
    "    'words': 201,\n",
    "    'vovels': 3000,\n",
    "    'spaces':12412\n",
    "}\n",
    "```\n"
   ]
  },
  {
   "cell_type": "code",
   "execution_count": 1,
   "id": "6533279c",
   "metadata": {},
   "outputs": [],
   "source": [
    "#TODO "
   ]
  },
  {
   "cell_type": "code",
   "execution_count": null,
   "id": "4ba03aca",
   "metadata": {},
   "outputs": [],
   "source": []
  }
 ],
 "metadata": {
  "kernelspec": {
   "display_name": "academy_venv",
   "language": "python",
   "name": "academy_venv"
  },
  "language_info": {
   "codemirror_mode": {
    "name": "ipython",
    "version": 3
   },
   "file_extension": ".py",
   "mimetype": "text/x-python",
   "name": "python",
   "nbconvert_exporter": "python",
   "pygments_lexer": "ipython3",
   "version": "3.8.0"
  }
 },
 "nbformat": 4,
 "nbformat_minor": 5
}
