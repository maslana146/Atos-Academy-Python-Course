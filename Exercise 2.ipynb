{
 "cells": [
  {
   "cell_type": "markdown",
   "metadata": {},
   "source": [
    "#### Ćwiczenie 1\n",
    "\n",
    "Dana jest nazwa pliku:\n",
    "\n",
    "```python\n",
    "filename = \"01012021_sprzedaz.xlsx\"\n",
    "```\n",
    "\n",
    "Sprawdź korzystając z komend Python'a, czy nazwa pliku zawiera rozszerzenie 'xlsx'. Wyświetl wynik."
   ]
  },
  {
   "cell_type": "code",
   "execution_count": null,
   "metadata": {},
   "outputs": [],
   "source": []
  },
  {
   "cell_type": "markdown",
   "metadata": {},
   "source": [
    "#### Ćwiczenie 2\n",
    "\n",
    "Podany jest ciąg znaków:\n",
    "```python\n",
    "kod = \"DSVNDOICSN\"\n",
    "```\n",
    "Sprawdź, czy wszyskie znaki w ciągu to wielkie litery. Wyświetl wyniki w formie odpowiedzi \"TAK\" lub \"NIE\""
   ]
  },
  {
   "cell_type": "code",
   "execution_count": null,
   "metadata": {},
   "outputs": [],
   "source": []
  },
  {
   "cell_type": "markdown",
   "metadata": {},
   "source": [
    "#### Ćwiczenie 3\n",
    "\n",
    "Dana jest zmienna numeryczna:\n",
    "```python    \n",
    "liczba = 1.0\n",
    "```\n",
    "Zbadaj czy zmienna jest typu 'int'. Wyświetl wynik w formie odpowiedzi \"TAK\" lub \"NIE\"."
   ]
  },
  {
   "cell_type": "code",
   "execution_count": null,
   "metadata": {},
   "outputs": [],
   "source": []
  },
  {
   "cell_type": "markdown",
   "metadata": {},
   "source": [
    "#### Ćwiczenie 4\n",
    "\n",
    "Podana jest zmienna zawierająca hasło:\n",
    "```python    \n",
    "haslo = \"csk#1dnke4!\"\n",
    "```\n",
    "Sprawdź, czy hasło posiada wymaganą długość 11 znaków. Wyświetl tekst \"Hasło poprawne\" lub \"Hasło zbyt krótkie\" w zależności od wyniku testu."
   ]
  },
  {
   "cell_type": "code",
   "execution_count": null,
   "metadata": {},
   "outputs": [],
   "source": []
  },
  {
   "cell_type": "markdown",
   "metadata": {},
   "source": [
    "#### Ćwiczenie 5\n",
    "\n",
    "Podana jest zmienna zawierająca hasło:\n",
    "```python    \n",
    "haslo = \"csk#1dnke4!\"\n",
    "```\n",
    "Sprawdź, czy hasło posiada wymaganą długość 11 znaków oraz czy zawiera znak specjalny \"#\". Wyświetl tekst \"Hasło poprawne\" lub \"Hasło niepoprawne\" w zależności od wyniku testu."
   ]
  },
  {
   "cell_type": "code",
   "execution_count": null,
   "metadata": {},
   "outputs": [],
   "source": []
  },
  {
   "cell_type": "markdown",
   "metadata": {},
   "source": [
    "#### Ćwiczenie 6\n",
    "\n",
    "Podana jest lista:\n",
    "```python\n",
    "id_projekty = ['02134','24253']\n",
    "```\n",
    "Sprawdź czy na liście występuje identyfikator:\n",
    "```python\n",
    "id = '02135'\n",
    "```\n",
    "Jeśli nie dodaj ten identyfikator do listy, wyświetl wynik."
   ]
  },
  {
   "cell_type": "code",
   "execution_count": null,
   "metadata": {},
   "outputs": [],
   "source": []
  },
  {
   "cell_type": "markdown",
   "metadata": {},
   "source": [
    "#### Ćwiczenie 7\n",
    "\n",
    "Dany jest słownik:\n",
    "\n",
    "```python\n",
    "project_ids = {\n",
    "    '01': 'open', \n",
    "    '02': 'new',\n",
    "    '03': 'in progress',\n",
    "    '04': 'completed'\n",
    "}\n",
    "```\n",
    "\n",
    "Wykorzystując instrukcję warunkową sprawdź, czy status projektu '02' jest ustawiony na 'new'. Jeśli tak, zmień status na 'open'."
   ]
  },
  {
   "cell_type": "code",
   "execution_count": null,
   "metadata": {},
   "outputs": [],
   "source": []
  },
  {
   "cell_type": "markdown",
   "metadata": {},
   "source": [
    "#### Ćwiczenie 8\n",
    "\n",
    "Napisz program, który sprawdzi czy podany element:\n",
    "```python\n",
    "item = '001'\n",
    "```\n",
    "występuje na liście\n",
    "```python\n",
    "items = ['001', '000', '003', '005', '006']\n",
    "```\n",
    "Jeśli, tak usuń ten element z listy. Wyświetl wynik."
   ]
  },
  {
   "cell_type": "code",
   "execution_count": null,
   "metadata": {},
   "outputs": [],
   "source": []
  },
  {
   "cell_type": "markdown",
   "metadata": {},
   "source": [
    "#### Ćwiczenie 9\n",
    "\n",
    "Napisz kod korzystający z pętli 'for', który znajdzie wszystkie liczby dwucyfrowe podzielne przez 11. Wyświetl wynik."
   ]
  },
  {
   "cell_type": "code",
   "execution_count": null,
   "metadata": {},
   "outputs": [],
   "source": []
  },
  {
   "cell_type": "markdown",
   "metadata": {},
   "source": [
    "#### Ćwiczenie 10\n",
    "\n",
    "Napisz kod korzystający z pętli 'for', który znadzie wszystkie liczby dwucyfrowe podzielne przez 11 oraz niepodzielne przez 3. Wyświetl wynik."
   ]
  },
  {
   "cell_type": "code",
   "execution_count": null,
   "metadata": {},
   "outputs": [],
   "source": []
  },
  {
   "cell_type": "markdown",
   "metadata": {},
   "source": [
    "#### Ćwiczenie 11\n",
    "\n",
    "Podana jest lista liczb:\n",
    "```python\n",
    "items = [1, 3, 4, 5, 6, 9, 10, 17, 23, 24]\n",
    "```\n",
    "Korzystając z pętli for napisz kod, który usunie liczby nieparzyste z listy. Wyświetl wynik."
   ]
  },
  {
   "cell_type": "code",
   "execution_count": null,
   "metadata": {},
   "outputs": [],
   "source": []
  },
  {
   "cell_type": "markdown",
   "metadata": {},
   "source": [
    "#### Ćwiczenie 12\n",
    "\n",
    "Podana jest lista liczb:\n",
    "```python\n",
    "items = [1, 5, 3, 2, 2, 4, 2, 4]\n",
    "```\n",
    "Korzystając z pętli for napisz kod, który usunie duplikaty z listy. Kolejność musi zostać zachowana. Wyświetl wynik."
   ]
  },
  {
   "cell_type": "code",
   "execution_count": null,
   "metadata": {},
   "outputs": [],
   "source": []
  },
  {
   "cell_type": "markdown",
   "metadata": {},
   "source": [
    "#### Ćwiczenie 13\n",
    "\n",
    "Napisz kod korzystający z pętli 'for', który z podanego tekstu:\n",
    "```python\n",
    "tekst = 'Python jest bardzo popularnym językiem programowania'\n",
    "```\n",
    "wytnie dokładnie cztery pierwsze wyrazy. zmień wszystkie litery w wyciętych wyrazach na małe. Przekształć wycięte wyrazy do formy listy. Wyświetl wynik."
   ]
  },
  {
   "cell_type": "code",
   "execution_count": null,
   "metadata": {},
   "outputs": [],
   "source": []
  },
  {
   "cell_type": "markdown",
   "metadata": {},
   "source": [
    "#### Ćwiczenie 14\n",
    "\n",
    "Napisz kod korzystając z pętli 'for', który z podanej listy zwróci listę wartości powyżej progu 0.5.\n",
    "```python\n",
    "hist = [0.21, 0.91, 0.34, 0.55, 0.76, 0.02]\n",
    "```"
   ]
  },
  {
   "cell_type": "code",
   "execution_count": null,
   "metadata": {},
   "outputs": [],
   "source": []
  },
  {
   "cell_type": "markdown",
   "metadata": {},
   "source": [
    "#### Ćwiczenie 15\n",
    "\n",
    "Model uczenia maszynowego zwraca prawdopodobieństwo przynależności do klasy. Jeśli jest ono mniejsze od 0.5 próbka zostaje przypisana do klasy 0 w przeciwnym przypadku do klasy 1.\n",
    "\n",
    "Podana jest lista otrzymanych prawdopodobieństw:\n",
    "```python\n",
    "probabilities = [0.21, 0.91, 0.34, 0.55, 0.76, 0.02]\n",
    "```\n",
    "Napisz kod korzystając z pętli 'for', który przypiszę klasę 0 do wartości mniejszych niż 0.5 i 1 dla wartości większych lub równych 0.5. Wyświetl wynik w formie listy."
   ]
  },
  {
   "cell_type": "code",
   "execution_count": null,
   "metadata": {},
   "outputs": [],
   "source": []
  },
  {
   "cell_type": "markdown",
   "metadata": {},
   "source": [
    "#### Ćwiczenie 16\n",
    "\n",
    "Napisz kod korzystając z pętli 'for', który poda w formie słownika liczbę wystąpięń każdej litery. W tworzonym słowniku litery mają stać się jego kluczami.\n",
    "```python\n",
    "items = ['x', 'y', 'z', 'y', 'x', 'y', 'y', 'z', 'x']\n",
    "```"
   ]
  },
  {
   "cell_type": "code",
   "execution_count": null,
   "metadata": {},
   "outputs": [],
   "source": []
  },
  {
   "cell_type": "markdown",
   "metadata": {},
   "source": [
    "#### Ćwiczenie 17\n",
    "\n",
    "podany jest tekst:\n",
    "```python\n",
    "tekst = \"\"\"Python – język programowania wysokiego poziomu ogólnego przeznaczenia, o rozbudowanym pakiecie bibliotek standardowych, którego ideą przewodnią jest czytelność i klarowność kodu źródłowego.\"\"\"\n",
    "```\n",
    "Korzystając z pętli 'for' utwórz lsitę słów z podanego tekstu. Zmień wszystkie liter na małe. Usuń znaki interpunkcyjne. Na liście pozostaw tylko wyrazy składające się z więcej niż 10 znaków. Wyświetl wynik"
   ]
  },
  {
   "cell_type": "code",
   "execution_count": null,
   "metadata": {},
   "outputs": [],
   "source": []
  },
  {
   "cell_type": "markdown",
   "metadata": {},
   "source": [
    "#### Ćwiczenie 18\n",
    "\n",
    "Podana jest lista indeksów spółek notowanych na GPW:\n",
    "```python\n",
    "indeksy = [\n",
    "    'WIG', 'WIG-banki', 'WIG-budownictwo', 'WIG-CEE', \n",
    "    'WIG-chemia', 'WIG-energia', 'WIG-ESG', 'WIG-górnictwo',\n",
    "    'WIG-informatyka', 'WIG-leki', 'WIG-media', 'WIG-motoryzacja',\n",
    "    'WIG-nieruchomości', 'WIG-odzież', 'WIG-paliwa', 'WIG-Poland',\n",
    "    'WIG-spożywczy', 'WIG-telekomunikacja', 'WIG-Ukraine',\n",
    "    'WIG.GAMES', 'WIG.MS-BAS', 'WIG.MS-FIN', 'WIG.MS-PET',\n",
    "    'WIG20', 'WIG20dvp', 'WIG20lev', 'WIG20short', 'WIG20TR',\n",
    "    'WIG30', 'WIG30TR', 'WIGdiv', 'WIGtech'\n",
    "]\n",
    "```\n",
    "Korzystając z pętli 'for' wybierz i wyświetl z podanej listy tylko indeksy zawierające w nazwie \"20\" lub \"30\"."
   ]
  },
  {
   "cell_type": "code",
   "execution_count": null,
   "metadata": {},
   "outputs": [],
   "source": []
  },
  {
   "cell_type": "markdown",
   "metadata": {},
   "source": [
    "#### Ćwiczenie 19\n",
    "\n",
    "Podany jest słownik spółek z indeksu WIG.GAMES. Kluczem słownika jest 3-literowy kod spółki, wartością - cena zmaknięcia:\n",
    "```python\n",
    "gaming = {\n",
    "    '11B': 362.5,\n",
    "    'CDR': 297.0,\n",
    "    'CIG': 0.85,\n",
    "    'PLW': 318.0,\n",
    "    'TEN': 300.0\n",
    "}\n",
    "```\n",
    "Korzystając z pętli 'for' wybierz kody tych spółek, których cena zamknięcia jest większa niż 100.00PLN."
   ]
  },
  {
   "cell_type": "code",
   "execution_count": null,
   "metadata": {},
   "outputs": [],
   "source": []
  },
  {
   "cell_type": "markdown",
   "metadata": {},
   "source": [
    "#### Ćwiczenie 20\n",
    "\n",
    "Podanaj jest lista imion (niektóre są błędne):\n",
    "```python    \n",
    "imiona = ['Jacek', 'Leon', 'Alicja', '32-3c', 'Robert']\n",
    "```\n",
    "Korzystając z pętli 'for' sprawdź, czy każde imię składa się wyłącznie z liter. Jeśli tak wyświetl wynik w formie (dla pierwszego podanego imienia) \"Cześć Jacek!\"."
   ]
  },
  {
   "cell_type": "code",
   "execution_count": null,
   "metadata": {},
   "outputs": [],
   "source": []
  },
  {
   "cell_type": "markdown",
   "metadata": {},
   "source": [
    "#### Ćwiczenie 21\n",
    "\n",
    "Napisz kod korzystając z pętli, który zwróci wartość TRUE w przypadku, gdy listy będą zawierać co najmniej jeden taki sam element. W przeciwnym przypadku zwróć wartość FALSE. Użyj dyrektywy 'break'."
   ]
  },
  {
   "cell_type": "code",
   "execution_count": null,
   "metadata": {},
   "outputs": [],
   "source": []
  },
  {
   "cell_type": "markdown",
   "metadata": {},
   "source": [
    "#### Ćwiczenie 22\n",
    "\n",
    "Podana jest lista znaczników:\n",
    "```python\n",
    "tag = ['holiday', 'sport', 'fit', None, 'fashion']\n",
    "```\n",
    "Sprawdź, czy każdy element tej listy jest typu 'str'. Jeśli tak, wyświetl wartość TRUE, w przeciwnym przypadku FALSE. Użyj instrukcji 'break' wewnątrz pętli."
   ]
  },
  {
   "cell_type": "code",
   "execution_count": null,
   "metadata": {},
   "outputs": [],
   "source": []
  },
  {
   "cell_type": "markdown",
   "metadata": {},
   "source": [
    "#### Ćwiczenie 23\n",
    "\n",
    "Napisz kod korzystając z pętli, który sprawdzi czy podana liczba jest liczbą pierwszą. Użyj pętli i dyrektywy 'break'\n",
    "```python    \n",
    "liczba = 13\n",
    "```"
   ]
  },
  {
   "cell_type": "code",
   "execution_count": null,
   "metadata": {},
   "outputs": [],
   "source": []
  },
  {
   "cell_type": "markdown",
   "metadata": {},
   "source": [
    "#### Ćwiczenie 24\n",
    "\n",
    "Podana jest lista spółek wraz z ceną zamknięcia podaną w PLN lub USD:\n",
    "```python\n",
    "indeks = {\n",
    "    '11B': [362.5, 'PLN'],\n",
    "    'CDR': [74.25, 'USD'],\n",
    "    'CIG': [0.85, 'PLN'],\n",
    "    'PLW': [79.5, 'USD'],\n",
    "    'TEN': [300.0, 'PLN']\n",
    "}\n",
    "```\n",
    "Korzystając z dyrektywy 'continue' napisz pętlę która pozwoli zmienić w podanej zmiennej cenę wyrażoną w USD na cenę wyrażoną w PLN. Przyjmij kurs wymiany USD->PLN = 4.0"
   ]
  },
  {
   "cell_type": "code",
   "execution_count": null,
   "metadata": {},
   "outputs": [],
   "source": []
  },
  {
   "cell_type": "markdown",
   "metadata": {},
   "source": [
    "#### Ćwiczenie 25\n",
    "\n",
    "Podana jest niepełna lista imion (jednego brak):\n",
    "```python\n",
    "imiona = ['Jacek', 'Leon', 'Alicja', None, 'Robert']\n",
    "```\n",
    "Posługując się pętlą z dyrektywą 'continue' wyświetl tylko elementy listy zawierające poprawne imiona."
   ]
  },
  {
   "cell_type": "code",
   "execution_count": null,
   "metadata": {},
   "outputs": [],
   "source": []
  },
  {
   "cell_type": "markdown",
   "metadata": {},
   "source": [
    "#### Ćwiczenie 26\n",
    "\n",
    "Korzystając z pętli 'while' oraz dyrektywy 'break' oblicz i wyświetl 10 pierwszych liczb pierwszych. "
   ]
  },
  {
   "cell_type": "code",
   "execution_count": null,
   "metadata": {},
   "outputs": [],
   "source": []
  },
  {
   "cell_type": "markdown",
   "metadata": {},
   "source": [
    "#### Ćwiczenie 27\n",
    "\n",
    "Wykorzystująć pętle 'while' policz ile lat trzeba czekać, aby podwoić kwotę 1000PLN wiedząc, że roczna stopa procentowa wynosi 4%."
   ]
  },
  {
   "cell_type": "code",
   "execution_count": null,
   "metadata": {},
   "outputs": [],
   "source": []
  },
  {
   "cell_type": "markdown",
   "metadata": {},
   "source": [
    "#### Ćwiczenie 28\n",
    "\n",
    "Podane są zmienne podane poniżej:\n",
    "```python\n",
    "suma = 3000\n",
    "dzielnik = 0\n",
    "```\n",
    "Chcemy podzielić zmienną 'suma' przez zmienną 'dzielnik'. Wartość zmiennej można samodzielnie zmieniać. Używająć strukuty try: ... except: ... obsłuż wyjątek dzielenia przez 0. Jeżeli dzielenie zostanie wykonane wyświetl wynik, w przeciwnym wypdaku wyświetl tekst 'dzielenie przez zero'."
   ]
  },
  {
   "cell_type": "code",
   "execution_count": null,
   "metadata": {},
   "outputs": [],
   "source": []
  },
  {
   "cell_type": "markdown",
   "metadata": {},
   "source": [
    "#### Ćwiczenie 29\n",
    "\n",
    "Niekiedy chcemy otworzyć plik z dysku o pewnej nazwie, nie wiedząc czy plik taki istnieje. Napisz kod z struktuą try: ... except: ..., która obsłuży ten wyjątek.\n",
    "\n",
    "Fragment kodu niezbędny do otwarcia pliku:\n",
    "\n",
    "```python\n",
    "with open(\"dane.txt\",'r') as plik:\n",
    "    zawartosc = plik.read()\n",
    "```\n",
    "\n",
    "Jeżeli podany plik \"dane.txt\" nie istnieje wyświetl tekst: \"Nie znaleziono pliku\"."
   ]
  },
  {
   "cell_type": "code",
   "execution_count": null,
   "metadata": {},
   "outputs": [],
   "source": []
  },
  {
   "cell_type": "markdown",
   "metadata": {},
   "source": [
    "#### Ćwiczenie 30\n",
    "\n",
    "Podany jest słownik:\n",
    "```python\n",
    "users = {'001': 'Marek', '002': 'Monika', '003': 'Jakub'}\n",
    "```\n",
    "Spróbuj wydrukować wartość ze słownika dla poniższego klucza:\n",
    "```python\n",
    "user_id = '004'\n",
    "```\n",
    "W przypadku błędu typu \"KeyError\" wyświetl tekst: \"Klucz 004 nie istnieje w słowniku. Dodawania klucza...\"\n",
    "\n",
    "Następnie dodaj ten klucz do słownika z wartością 'None'. Wyświetl słownik wynikowy."
   ]
  },
  {
   "cell_type": "code",
   "execution_count": null,
   "metadata": {},
   "outputs": [],
   "source": []
  },
  {
   "cell_type": "markdown",
   "metadata": {},
   "source": [
    "#### Ćwiczenie 31\n",
    "\n",
    "Napisz kod, który wczyta plik 'spolki.txt', który zawiera dane notowań jednej spółki giełdowej, a następnie obliczy średnią cenę zamknięcia. Wyświetl wynik."
   ]
  },
  {
   "cell_type": "code",
   "execution_count": null,
   "metadata": {},
   "outputs": [],
   "source": []
  },
  {
   "cell_type": "markdown",
   "metadata": {},
   "source": [
    "#### Ćwiczenie 32\n",
    "\n",
    "Wczytaj plik 'indeksy.txt'. W każdej linii jest inna nazwa indeksu publikowanego przez GPW. Utwórz listę z nazwami indeksów rozpoczynających się od 'WIG'. Wyświetl wynik."
   ]
  },
  {
   "cell_type": "code",
   "execution_count": null,
   "metadata": {},
   "outputs": [],
   "source": []
  },
  {
   "cell_type": "markdown",
   "metadata": {},
   "source": [
    "#### Ćwiczenie 33\n",
    "\n",
    "Podany jest plik plw.txt zawierający notowania spółki. Plik wczytano w następujący sposób:\n",
    "\n",
    "```python\n",
    "with open('plw.csv', 'r') as file:\n",
    "    content = file.read().splitlines()\n",
    "```\n",
    "\n",
    "Przekształć zawartość zmiennej 'content' w taki sposób aby otrzymać słownik zwierający dwa klucze 'Data' i 'Zamknięcie'. Wartościami dla tych kluczy będą listy składające się z dat i cen zamknięcia. Ceny amknięcia skonwertuj na typ 'float'. Wyświetl wynik."
   ]
  },
  {
   "cell_type": "code",
   "execution_count": null,
   "metadata": {},
   "outputs": [],
   "source": []
  },
  {
   "cell_type": "markdown",
   "metadata": {},
   "source": [
    "#### Ćwiczenie 34\n",
    "\n",
    "Podany jest plik plw.txt zawierający notowania spółki. Plik wczytano w następujący sposób:\n",
    "\n",
    "```python\n",
    "with open('plw.csv', 'r') as file:\n",
    "    content = file.read().splitlines()\n",
    "```\n",
    "\n",
    "Znajdź największą wartość wolumenu w podanym miesiącu. Wyświetl wynik"
   ]
  },
  {
   "cell_type": "code",
   "execution_count": null,
   "metadata": {},
   "outputs": [],
   "source": []
  },
  {
   "cell_type": "markdown",
   "metadata": {},
   "source": [
    "#### Ćwiczenie 35\n",
    "\n",
    "Podany jest plik plw.txt zawierający notowania spółki. Plik wczytano w następujący sposób:\n",
    "\n",
    "```python\n",
    "with open('plw.csv', 'r') as file:\n",
    "    content = file.read().splitlines()\n",
    "```\n",
    "\n",
    "Znajdź dzień z największą wartością wolumenu w podanym miesiącu. Wyświetl wynik."
   ]
  },
  {
   "cell_type": "code",
   "execution_count": null,
   "metadata": {},
   "outputs": [],
   "source": []
  },
  {
   "cell_type": "markdown",
   "metadata": {},
   "source": [
    "#### Ćwiczenie 36\n",
    "\n",
    "Wygeneruj wszystkie liczby parzyste od 2 do 18 włącznie. Następnie zapisz każdą liczbę w osobnej linii do pliku 'num.txt'."
   ]
  },
  {
   "cell_type": "code",
   "execution_count": null,
   "metadata": {},
   "outputs": [],
   "source": []
  },
  {
   "cell_type": "markdown",
   "metadata": {},
   "source": [
    "#### Ćwiczenie 37\n",
    "\n",
    "Podane są dwie listy:\n",
    "```python\n",
    "headers = ['user_id', 'amount']\n",
    "users = [['001', '1400'], ['004', '1300'], ['007', '900']]\n",
    "```\n",
    "Zapisz powyższe dane do pliku 'users.csv'"
   ]
  },
  {
   "cell_type": "code",
   "execution_count": null,
   "metadata": {},
   "outputs": [],
   "source": []
  },
  {
   "cell_type": "markdown",
   "metadata": {},
   "source": [
    "#### Ćwiczenie 38\n",
    "\n",
    "Podana jest zmienna x:\n",
    "```python\n",
    "x=-1.5\n",
    "```\n",
    "oraz podane jest następujące wyrażenie:\n",
    "```python\n",
    "wyr = 'x**2 + x'\n",
    "```\n",
    "Znajdź funkcję Python'a, która obliczy wartość podanego wyrażenia. "
   ]
  },
  {
   "cell_type": "code",
   "execution_count": null,
   "metadata": {},
   "outputs": [],
   "source": []
  },
  {
   "cell_type": "markdown",
   "metadata": {},
   "source": [
    "#### Ćwiczenie 39\n",
    "\n",
    "Podane są zmienne:\n",
    "```python\n",
    "var1 = 'Python'\n",
    "var2 = ('Python')\n",
    "var3 = ('Python',)\n",
    "var4 = ['Python']\n",
    "var5 = {'Python'}\n",
    "```\n",
    "Używając odpowiedniej funkcji sprawdź, czy podane zmienne są typu tuple."
   ]
  },
  {
   "cell_type": "code",
   "execution_count": null,
   "metadata": {},
   "outputs": [],
   "source": []
  },
  {
   "cell_type": "markdown",
   "metadata": {},
   "source": [
    "#### Ćwiczenie 40\n",
    "\n",
    "Podana jest lista:\n",
    "```python\n",
    "characters = ['k', 'b', 'c', 'j', 'z', 'w']\n",
    "```\n",
    "Wykorzystując funkcje wbudowane zwróć pierwszą i ostatnią literę ułożonych w kolejności alfabetycznej liter z listy."
   ]
  },
  {
   "cell_type": "code",
   "execution_count": null,
   "metadata": {},
   "outputs": [],
   "source": []
  },
  {
   "cell_type": "markdown",
   "metadata": {},
   "source": [
    "#### Ćwiczenie 41\n",
    "\n",
    "Podane są dwie tuple:\n",
    "```python\n",
    "ticker = ('TEN', 'PLW', 'CDR')\n",
    "full_name = ('Ten Square Games', 'Playway', 'CD Projekt')\n",
    "```\n",
    "Używając funkcji wbudowanych utwórz listę składającą się z elementów typu tupla (ticker, full_name)."
   ]
  },
  {
   "cell_type": "code",
   "execution_count": null,
   "metadata": {},
   "outputs": [],
   "source": []
  },
  {
   "cell_type": "markdown",
   "metadata": {},
   "source": [
    "#### Ćwiczenie 42\n",
    "\n",
    "Używając odpowiedniej funkcji wbudowanej sprawdź, czy wszuystkie elementy poniższej zmiennej zwracają wartość logiczną TRUE.\n",
    "```python\n",
    "items = (' ', '0', 0.1, True)\n",
    "```"
   ]
  },
  {
   "cell_type": "markdown",
   "metadata": {},
   "source": [
    "#### Ćwiczenie 43\n",
    "\n",
    "Używając odpowiedniej funkcji wbudowanej sprawdź, czy jakikolwiek element poniżeszej zmiennej zwraca wartość logiczną TRUE.\n",
    "```python\n",
    "items = ('', 0.0, 0, False)\n",
    "```"
   ]
  },
  {
   "cell_type": "code",
   "execution_count": null,
   "metadata": {},
   "outputs": [],
   "source": []
  },
  {
   "cell_type": "markdown",
   "metadata": {},
   "source": [
    "#### Ćwiczenie 44\n",
    "\n",
    "Zlicz liczbę jedynek w binarnej reprezentacji liczby podanej w zmiennej:\n",
    "```python\n",
    "liczba = 234\n",
    "```\n",
    "Użyj funkcji wbudowanej."
   ]
  },
  {
   "cell_type": "code",
   "execution_count": null,
   "metadata": {},
   "outputs": [],
   "source": []
  },
  {
   "cell_type": "markdown",
   "metadata": {},
   "source": [
    "#### Ćwiczenie 45\n",
    "\n",
    "Zdefiniuj własną funkcję o nazwie 'maksimum', która wyznaczy maksimum z dwóch podanych liczb. Nie używaj funkcji wbudowanej 'max'."
   ]
  },
  {
   "cell_type": "code",
   "execution_count": null,
   "metadata": {},
   "outputs": [],
   "source": []
  },
  {
   "cell_type": "markdown",
   "metadata": {},
   "source": [
    "#### Ćwiczenie 46\n",
    "\n",
    "Zdefiniuj własną funkcję o nazwie 'maksimum', która wyznaczy maksimum z trzech podanych liczb. Nie używaj funkcji wbudowanej 'max'."
   ]
  },
  {
   "cell_type": "code",
   "execution_count": null,
   "metadata": {},
   "outputs": [],
   "source": []
  },
  {
   "cell_type": "markdown",
   "metadata": {},
   "source": [
    "#### Ćwiczenie 47\n",
    "\n",
    "Zdefiniuj funkcję o nazwie multi, która jako parametr przyjmie zmienną typu lista oraz obliczy iloczyn wszystkich jej elementów."
   ]
  },
  {
   "cell_type": "code",
   "execution_count": null,
   "metadata": {},
   "outputs": [],
   "source": []
  },
  {
   "cell_type": "markdown",
   "metadata": {},
   "source": [
    "#### Ćwiczenie 48\n",
    "\n",
    "Napisz funkcje map_dl, której argumentem będzie lista słów, a wynikiem długość najdłuższego podaneg słowa."
   ]
  },
  {
   "cell_type": "code",
   "execution_count": null,
   "metadata": {},
   "outputs": [],
   "source": []
  },
  {
   "cell_type": "markdown",
   "metadata": {},
   "source": [
    "#### Ćwiczenie 48\n",
    "\n",
    "Napisz funkcje map_6, której argumentem będzie lista słów, a wynikiem będzie lista słów składających się z 6-ciu lub więcej znaków."
   ]
  },
  {
   "cell_type": "markdown",
   "metadata": {},
   "source": [
    "#### Ćwiczenie 49\n",
    "\n",
    "Napisz funkcje o nazwie silnia, która obliczy wartość silni podanej liczby."
   ]
  },
  {
   "cell_type": "code",
   "execution_count": null,
   "metadata": {},
   "outputs": [],
   "source": []
  },
  {
   "cell_type": "markdown",
   "metadata": {},
   "source": [
    "#### Ćwiczenie 50\n",
    "\n",
    "Napisz funkcję licz_str, która obliczy liczbę elementów typu str w podanej liście heterogenicznej."
   ]
  },
  {
   "cell_type": "code",
   "execution_count": null,
   "metadata": {},
   "outputs": [],
   "source": []
  },
  {
   "cell_type": "markdown",
   "metadata": {},
   "source": [
    "#### Ćwiczenie 51\n",
    "\n",
    "Napisz funkcję licz_str, która obliczy liczbę elementów typu str o długości powyżej 2-ch znaków w podanej liście heterogenicznej."
   ]
  },
  {
   "cell_type": "code",
   "execution_count": null,
   "metadata": {},
   "outputs": [],
   "source": []
  },
  {
   "cell_type": "markdown",
   "metadata": {},
   "source": [
    "#### Ćwiczenie 52\n",
    "\n",
    "Napisz funkcję rm_dupli, która usunie zduplikowane elementy z podanej listy (kolejność elementów nie musi zostać zachowana)."
   ]
  },
  {
   "cell_type": "code",
   "execution_count": null,
   "metadata": {},
   "outputs": [],
   "source": []
  },
  {
   "cell_type": "markdown",
   "metadata": {},
   "source": [
    "#### Ćwiczenie 53\n",
    "\n",
    "napisz funkcję unikaty, która sprawdzi, czy lista zawiera wyłącznie unikalne wartości."
   ]
  },
  {
   "cell_type": "code",
   "execution_count": null,
   "metadata": {},
   "outputs": [],
   "source": []
  },
  {
   "cell_type": "markdown",
   "metadata": {},
   "source": [
    "#### Ćwiczenie 54\n",
    "\n",
    "Zdefiniuj funkcje palidrom, która za argument przyjmuje ciąg znaków i sprawdzi czy jest on palidromem (wyrażeniem brzmiącym tak samo czytanym od początku i od końca np. potp, kajak)."
   ]
  },
  {
   "cell_type": "code",
   "execution_count": null,
   "metadata": {},
   "outputs": [],
   "source": []
  }
 ],
 "metadata": {
  "kernelspec": {
   "display_name": "Python 3 (ipykernel)",
   "language": "python",
   "name": "python3"
  },
  "language_info": {
   "codemirror_mode": {
    "name": "ipython",
    "version": 3
   },
   "file_extension": ".py",
   "mimetype": "text/x-python",
   "name": "python",
   "nbconvert_exporter": "python",
   "pygments_lexer": "ipython3",
   "version": "3.9.7"
  }
 },
 "nbformat": 4,
 "nbformat_minor": 4
}
